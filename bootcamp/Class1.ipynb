{
 "cells": [
  {
   "cell_type": "markdown",
   "metadata": {},
   "source": [
    "# Class 1\n",
    "\n",
    "Note:  The notes that follow are largely those of Mark Krumholz (ANU) who led the Bootcamp\n",
    "last in 2015.  You can find the 2015 lectures [here](https://sites.google.com/a/ucsc.edu/krumholz/teaching-and-courses/python-15)"
   ]
  },
  {
   "cell_type": "code",
   "execution_count": 47,
   "metadata": {},
   "outputs": [],
   "source": [
    "# imports\n",
    "\n",
    "# These are to display images in-line\n",
    "from IPython.display import Image\n",
    "from IPython.core.display import HTML"
   ]
  },
  {
   "cell_type": "markdown",
   "metadata": {},
   "source": [
    "## TOC:\n",
    "\n",
    "* [Introductory Matters](#introductory-matters)\n",
    "    * [Rant](#rant)\n",
    "    * [Home](#home)\n",
    "    * [Command Line](#command-line)\n",
    "    * [Python Resources](#python-resources)\n",
    "* [First Steps in Python](#first-steps)\n",
    "    * [Python calculator](#python-calculator)\n",
    "    * [Simple Variables](#simple-variables)\n",
    "* [Arrays](#arrays)\n",
    "    * [Creating 1D Arrays](#creating-1d-arrays)\n",
    "    * [Manipulation](#manipulation)\n",
    "    * [Multidimensional Arrays](#multidimensional)\n",
    "    * [Plotting Basics](#plotting-basics)\n",
    "* [Other Ways of Interacting](#other-ways)\n",
    "    * [Jupyter Notebook](#jupyter-notebook)\n",
    "    * [Python program](#python-program)"
   ]
  },
  {
   "cell_type": "markdown",
   "metadata": {},
   "source": [
    "# Introductory Matters <a class=\"anchor\" id=\"introductory-matters\"></a>"
   ]
  },
  {
   "cell_type": "markdown",
   "metadata": {},
   "source": [
    "## Philosophical statement / rant <a class=\"anchor\" id=\"rant\"></a>"
   ]
  },
  {
   "cell_type": "markdown",
   "metadata": {},
   "source": [
    "The vast majority of people do not learn well by sitting and listening to someone talk, or simply reading something, or watching someone do something. While listening, reading, and watching can be useful as first steps, they rarely lead to even minimal competence. That is true of most skills, but it is especially true of computer programming. Being a programmer means knowing how to define a task to be accomplished in a way that is clear and precise, knowing how to break that task down into a set of tiny steps, and knowing how to tell a computer to perform each of those tiny steps. This sort of thinking does not come naturally to most people, and acquiring it can only be done by doing it. Trying to learn programming by reading a set of notes, or watching someone lecture, is about as useful as trying to learn carpentry by watching reruns of This Old House. It's just not going to happen. Thus the most important thing you can do, in this workshop and beyond, is practice writing programs over and over again until you get good at it."
   ]
  },
  {
   "cell_type": "markdown",
   "metadata": {},
   "source": [
    "## If you are trying this at home <a class=\"anchor\" id=\"home\"></a>\n",
    "\n",
    "If you're doing this on your own machine, you'll need to take a few steps to get the necessary software installed. Specifically, you will need to:\n",
    "\n",
    "1. [Install python](https://github.com/profxj/lamat2020/blob/bootcamp/bootcamp/InstallingPython.md)\n",
    "1. Install an editor or IDE\n",
    "\n",
    "On the latter point, I highly recommend the [Pycharm IDE](https://www.jetbrains.com/pycharm/) once are you reasonably expert in Python (it is a bit overwhelming at first).  Their Professional version is free for academics.\n",
    "\n",
    "Others perfer the [sublime editor](https://www.sublimetext.com/).\n",
    "\n",
    "If you are using Windows, I'm not sure what to recommend.."
   ]
  },
  {
   "cell_type": "markdown",
   "metadata": {},
   "source": [
    "## Welcome to the Command Line <a class=\"anchor\" id=\"command-line\"></a>"
   ]
  },
  {
   "cell_type": "markdown",
   "metadata": {},
   "source": [
    "For most of this class, we will be manipulating files and data on the command line, as opposed to a graphical user environment. The command line offers a much faster and more powerful tool for manipulating files and performing other operations than point and click operations, and working with it is a starting point to computer programming. The commands below are for a unix-based operating system (which also includes OS X-based machines), but equivalent commands generally exist under Windows.\n",
    "\n",
    "A list of useful unix commands that you should know:\n",
    "\n",
    "    list files in current directory:          ls   (ls -a includes hidden files, ls -l gives more information about each file)\n",
    "\n",
    "    check disk space in use (in kbtyes):      df -k\n",
    "\n",
    "    print the present working directory:      pwd\n",
    "\n",
    "    make a new directory dir1:                mkdir dir1\n",
    "\n",
    "    change to directory dir1:                 cd dir1\n",
    "\n",
    "    change back one directory:                cd ../\n",
    "\n",
    "    change to the home directory:             cd\n",
    "\n",
    "    remove a file called file1:               rm file1\n",
    "\n",
    "    remove all files in current directory:    rm *  (use with extreme caution)\n",
    "\n",
    "    remove all files starting with z:         rm z*\n",
    "\n",
    "    remove all files ending with a:           rm *a\n",
    "\n",
    "    remove a directory called data:           rmdir data\n",
    "\n",
    "    make a duplicate copy of file dog:        cp dog dog2\n",
    "\n",
    "    change the name of dog2 to dog1:          mv dog2 dog1   (mv dog ../dog\n",
    "                                                              mv dog dir1/dog\n",
    "                                                              mv dog ~/dog)\n",
    "    print the file dog on the screen:         cat dog\n",
    "\n",
    "    print the first ten lines of file dog:    head -n 10 dog\n",
    "\n",
    "    print the last twenty lines of file dog:  tail -n 20 dog\n",
    "\n",
    "    print any lines in file dog that have the specified pattern:  grep 'hello world' dog\n",
    "\n",
    "    compare two files line by line:           diff file1 file2\n",
    "\n"
   ]
  },
  {
   "cell_type": "markdown",
   "metadata": {},
   "source": [
    "Here are a few links and cheatsheets:\n",
    "\n",
    "* [Cheat Sheet](http://cheatsheetworld.com/programming/unix-linux-cheat-sheet/)\n",
    "* [Basic Unix Commands](https://www.tjhsst.edu/~dhyatt/superap/unixcmd.html)"
   ]
  },
  {
   "cell_type": "markdown",
   "metadata": {},
   "source": [
    "## Python Resources <a class=\"anchor\" id=\"python-resources\"></a>"
   ]
  },
  {
   "cell_type": "markdown",
   "metadata": {},
   "source": [
    "Python is a programming language, and its capabilities are vast, as are the set of packages available that extend its capabilities. We'll barely scratch the surface in this boot camp. You can find more at a number of sources. The ones I use most often are:\n",
    "\n",
    "\n",
    "* [python](http://www.python.org/doc/) for the core python language\n",
    "* [numpy](http://docs.scipy.org/doc/numpy/reference/) for numpy\n",
    "* [scipy](http://docs.scipy.org/doc/scipy/reference/) for scipy\n",
    "* [matplotlib](http://matplotlib.org/) for matplotlib\n",
    "* [astropy](http://docs.astropy.org/en/stable/) for astropy\n",
    "\n",
    "You will probably also wind up consulting these frequently. Also, don't underestimate the value of a good google query. For many of the problems you are going to encounter, someone else has encountered a very similar problem before. Programming is not one of those subjects where borrowing pieces from someone else's solution to a similar problem counts as plagiarism. Quite the opposite: reinventing the wheel is a waste of your time, and if you can save yourself an hour of banging your head against a wall with 10 minutes of googling, you should do so.\n",
    "\n",
    "Finally, within an interactive python session, using either ipython or the ipython notebook, you can find out about a specific variable by typing ? followed by the name of the variable. This will print out not only the value of the variable, but a bunch of information about what type it is, what can be done with and to that type, etc."
   ]
  },
  {
   "cell_type": "code",
   "execution_count": 1,
   "metadata": {},
   "outputs": [],
   "source": [
    "# Here is an example of the last item\n",
    "import numpy as np\n",
    "np.ones?"
   ]
  },
  {
   "cell_type": "markdown",
   "metadata": {},
   "source": [
    "# First steps in python <a class=\"anchor\" id=\"first-steps\"></a>"
   ]
  },
  {
   "cell_type": "markdown",
   "metadata": {},
   "source": [
    "## Using ipython as a calculator <a class=\"anchor\" id=\"python-calculator\"></a>"
   ]
  },
  {
   "cell_type": "markdown",
   "metadata": {},
   "source": [
    "It is possible to interact with python in many ways. We'll start with interactively in a Terminal, using *ipython*. This is an interactive wrapper around the core python language, which conveniently lets us perform python operations from the keyboard one line at a time, rather than having to write out an entire program in advance. We will also use the pylab extension to ipython, which gives us plotting and numerical capabilities. To fire it up, just go to the command line and type:\n",
    "\n",
    "    ipython"
   ]
  },
  {
   "cell_type": "markdown",
   "metadata": {},
   "source": [
    "The result should be something like:\n",
    "    \n",
    "    Python 3.7.3 (default, Mar 27 2019, 22:11:17) \n",
    "    Type 'copyright', 'credits' or 'license' for more information\n",
    "    IPython 7.10.1 -- An enhanced Interactive Python. Type '?' for help.\n",
    "\n",
    "    In [1]:  \n"
   ]
  },
  {
   "cell_type": "markdown",
   "metadata": {},
   "source": [
    "This is a command prompt at which we can enter python commands. One very basic way to use python is as a calculator.  The cells that follow are ones you can execute in your ipython session (or in a Jupyter Notebook).  Try em!"
   ]
  },
  {
   "cell_type": "code",
   "execution_count": 3,
   "metadata": {},
   "outputs": [
    {
     "data": {
      "text/plain": [
       "5"
      ]
     },
     "execution_count": 3,
     "metadata": {},
     "output_type": "execute_result"
    }
   ],
   "source": [
    "2+3"
   ]
  },
  {
   "cell_type": "code",
   "execution_count": 4,
   "metadata": {},
   "outputs": [
    {
     "data": {
      "text/plain": [
       "6"
      ]
     },
     "execution_count": 4,
     "metadata": {},
     "output_type": "execute_result"
    }
   ],
   "source": [
    "2*3"
   ]
  },
  {
   "cell_type": "code",
   "execution_count": 5,
   "metadata": {},
   "outputs": [
    {
     "data": {
      "text/plain": [
       "-1"
      ]
     },
     "execution_count": 5,
     "metadata": {},
     "output_type": "execute_result"
    }
   ],
   "source": [
    "2-3"
   ]
  },
  {
   "cell_type": "code",
   "execution_count": 6,
   "metadata": {},
   "outputs": [
    {
     "data": {
      "text/plain": [
       "2.0"
      ]
     },
     "execution_count": 6,
     "metadata": {},
     "output_type": "execute_result"
    }
   ],
   "source": [
    "4/2"
   ]
  },
  {
   "cell_type": "code",
   "execution_count": 7,
   "metadata": {},
   "outputs": [
    {
     "data": {
      "text/plain": [
       "8"
      ]
     },
     "execution_count": 7,
     "metadata": {},
     "output_type": "execute_result"
    }
   ],
   "source": [
    "2**3"
   ]
  },
  {
   "cell_type": "markdown",
   "metadata": {},
   "source": [
    "Python knows the basic arithmetic operations plus (+), minus (-), times (*), divide (/), and raise to a power (**). It also understands parentheses, and follows the normal rules for order of operations:"
   ]
  },
  {
   "cell_type": "code",
   "execution_count": 9,
   "metadata": {},
   "outputs": [
    {
     "data": {
      "text/plain": [
       "7"
      ]
     },
     "execution_count": 9,
     "metadata": {},
     "output_type": "execute_result"
    }
   ],
   "source": [
    "1 + 2*3"
   ]
  },
  {
   "cell_type": "code",
   "execution_count": 10,
   "metadata": {},
   "outputs": [
    {
     "data": {
      "text/plain": [
       "9"
      ]
     },
     "execution_count": 10,
     "metadata": {},
     "output_type": "execute_result"
    }
   ],
   "source": [
    "(1+2)*3"
   ]
  },
  {
   "cell_type": "markdown",
   "metadata": {},
   "source": [
    "## Simple variables <a class=\"anchor\" id=\"simple-variables\"></a>"
   ]
  },
  {
   "cell_type": "markdown",
   "metadata": {},
   "source": [
    "We can also define variables to store numbers, and we can perform arithmetic on those variables. Variables are just names for boxes that can store values, and on which you can perform various operations. For example:"
   ]
  },
  {
   "cell_type": "code",
   "execution_count": 11,
   "metadata": {},
   "outputs": [],
   "source": [
    "a=4"
   ]
  },
  {
   "cell_type": "code",
   "execution_count": 12,
   "metadata": {},
   "outputs": [
    {
     "data": {
      "text/plain": [
       "5"
      ]
     },
     "execution_count": 12,
     "metadata": {},
     "output_type": "execute_result"
    }
   ],
   "source": [
    "a+1"
   ]
  },
  {
   "cell_type": "code",
   "execution_count": 19,
   "metadata": {},
   "outputs": [
    {
     "data": {
      "text/plain": [
       "2"
      ]
     },
     "execution_count": 19,
     "metadata": {},
     "output_type": "execute_result"
    }
   ],
   "source": [
    "a//2"
   ]
  },
  {
   "cell_type": "code",
   "execution_count": 20,
   "metadata": {},
   "outputs": [
    {
     "data": {
      "text/plain": [
       "2.5"
      ]
     },
     "execution_count": 20,
     "metadata": {},
     "output_type": "execute_result"
    }
   ],
   "source": [
    "a/2"
   ]
  },
  {
   "cell_type": "markdown",
   "metadata": {},
   "source": [
    "Note that there are two divide operations in Python 3.  The // requires the output to be an integer so in this case Python rounds down to the nearest integer.  Instead / outputs the expected result.\n"
   ]
  },
  {
   "cell_type": "code",
   "execution_count": 14,
   "metadata": {},
   "outputs": [],
   "source": [
    "a = a+1"
   ]
  },
  {
   "cell_type": "code",
   "execution_count": 15,
   "metadata": {},
   "outputs": [
    {
     "data": {
      "text/plain": [
       "5"
      ]
     },
     "execution_count": 15,
     "metadata": {},
     "output_type": "execute_result"
    }
   ],
   "source": [
    "a"
   ]
  },
  {
   "cell_type": "code",
   "execution_count": 16,
   "metadata": {},
   "outputs": [
    {
     "data": {
      "text/plain": [
       "25"
      ]
     },
     "execution_count": 16,
     "metadata": {},
     "output_type": "execute_result"
    }
   ],
   "source": [
    "a**2"
   ]
  },
  {
   "cell_type": "markdown",
   "metadata": {},
   "source": [
    "There's a subtle but important point to notice here, which is the meaning of the equal sign. In mathematics, the statement that a = b is a statement that two things are equal, and it can be either true or false. In python, as in almost all other programming languages, a = b means something different. It means that the value of the variable a should be changed to whatever value b has. Thus the statement we made a = a + 1 is not an assertion (which is obviously false) that a is equal to itself plus one. It is an instruction to the computer to take the variable a, and 1 to it, and then store the result back into the variable a. In this example, it therefore changes the value of a from 4 to 5.\n",
    "\n",
    "One more point regrading assignments: the fact that = means something different in programming than it does in mathematics implies that the statements a = b and b = a will have very different effects. The first one causes the computer to forget whatever is stored in a and replace it by whatever is stored in b. The second statement has the opposite effect: the computer forgets what is stored in b, and replaces it by whatever is stored in a.\n",
    "\n",
    "The variable a that we have defined is an integer, or int for short. We can find this out by asking python:"
   ]
  },
  {
   "cell_type": "code",
   "execution_count": 17,
   "metadata": {},
   "outputs": [
    {
     "data": {
      "text/plain": [
       "int"
      ]
     },
     "execution_count": 17,
     "metadata": {},
     "output_type": "execute_result"
    }
   ],
   "source": [
    "type(a)"
   ]
  },
  {
   "cell_type": "markdown",
   "metadata": {},
   "source": [
    "If we assign this to a variable, we will have a new type of variable: a floating point number, or float for short."
   ]
  },
  {
   "cell_type": "code",
   "execution_count": 21,
   "metadata": {},
   "outputs": [],
   "source": [
    "b = a / 2."
   ]
  },
  {
   "cell_type": "code",
   "execution_count": 22,
   "metadata": {},
   "outputs": [
    {
     "data": {
      "text/plain": [
       "2.5"
      ]
     },
     "execution_count": 22,
     "metadata": {},
     "output_type": "execute_result"
    }
   ],
   "source": [
    "b"
   ]
  },
  {
   "cell_type": "code",
   "execution_count": 23,
   "metadata": {},
   "outputs": [
    {
     "data": {
      "text/plain": [
       "float"
      ]
     },
     "execution_count": 23,
     "metadata": {},
     "output_type": "execute_result"
    }
   ],
   "source": [
    "type(b)"
   ]
  },
  {
   "cell_type": "markdown",
   "metadata": {},
   "source": [
    "A floating point variable is capable of holding real numbers. Why have different types of variables for integers versus non-integer real numbers? In mathematics there is no need to make the distinction, of course: all integers are real numbers, so it would seem that there should be no reason to have a separate type of variable to hold integers. However, this ignores the way computers work. On a computer, operations involving integers are exact: 1 + 1 is exactly 2. However, operations on real numbers are necessarily inexact. I say necessarily because a real number is capable of having an arbitrary number of decimal places. The number pi contains infinitely many digits, and never repeats, but my computer only comes with a finite amount of memory and processor power. Even rational numbers run into this problem, because their decimal representation (or to be exact their representation in binary) may be an infinitely repeating sequence. Thus it is not possible to perform operations on arbitrary real numbers to exact precision. Instead, arithmetic operations on floating point numbers are approximate, with the level of accuracy determined by factors like how much memory one wants to devote to storing digits, and how much processor time one wants to spend manipulating them. On most computers a python floating point number is accurate to about 1 in 10^15, but this depends on both the architecture and on the operations you perform. That's enough accuracy for many purposes, but there are plenty of situations (for example counting things) when we really want to do things precisely, and we want 1 + 1 to be exactly 2. That's what integers are there for.\n",
    "\n",
    "Side note: as a fun exercise, once you've learned about loops, try setting a variable to 0.5, then setting it equal to its own square root N times, and then setting equal to its own square N times. Then see what the value of the variable turns out to be. Of course the right answer is that it should be exactly 0.5. See how well this works depending on the number of operations N you perform.\n",
    "\n",
    "A third type of very useful variable is strings, abbreviated str. A string is a sequence of characters, and one can declare that something is a string by putting characters in quotation marks (either \" or ' is fine):"
   ]
  },
  {
   "cell_type": "code",
   "execution_count": 24,
   "metadata": {},
   "outputs": [],
   "source": [
    "c = \"alice\""
   ]
  },
  {
   "cell_type": "code",
   "execution_count": 25,
   "metadata": {},
   "outputs": [
    {
     "data": {
      "text/plain": [
       "str"
      ]
     },
     "execution_count": 25,
     "metadata": {},
     "output_type": "execute_result"
    }
   ],
   "source": [
    "type(c)"
   ]
  },
  {
   "cell_type": "markdown",
   "metadata": {},
   "source": [
    "The quotation marks are important here. To see why, try issuing the command without them:"
   ]
  },
  {
   "cell_type": "code",
   "execution_count": 26,
   "metadata": {},
   "outputs": [
    {
     "ename": "NameError",
     "evalue": "name 'alice' is not defined",
     "output_type": "error",
     "traceback": [
      "\u001b[0;31m---------------------------------------------------------------------------\u001b[0m",
      "\u001b[0;31mNameError\u001b[0m                                 Traceback (most recent call last)",
      "\u001b[0;32m<ipython-input-26-41734c8e2082>\u001b[0m in \u001b[0;36m<module>\u001b[0;34m\u001b[0m\n\u001b[0;32m----> 1\u001b[0;31m \u001b[0mc\u001b[0m \u001b[0;34m=\u001b[0m \u001b[0malice\u001b[0m\u001b[0;34m\u001b[0m\u001b[0;34m\u001b[0m\u001b[0m\n\u001b[0m",
      "\u001b[0;31mNameError\u001b[0m: name 'alice' is not defined"
     ]
    }
   ],
   "source": [
    "c = alice"
   ]
  },
  {
   "cell_type": "markdown",
   "metadata": {},
   "source": [
    "This is an error message, complaining that the computer doesn't know what alice is. The problem is that, without the quotation marks, python thinks that alice is the name of a variable, and complains when it can't find a variable by that name. Putting the quotation marks tells python that we mean a string, not a variable named alice.\n",
    "\n",
    "Obviously we can't add strings in the same sense that we add numbers, but we can still do operations on them. The plus operation concatenates two strings together:"
   ]
  },
  {
   "cell_type": "code",
   "execution_count": 27,
   "metadata": {},
   "outputs": [],
   "source": [
    "d = 'bob'  # note we can use \" or '"
   ]
  },
  {
   "cell_type": "code",
   "execution_count": 28,
   "metadata": {},
   "outputs": [
    {
     "data": {
      "text/plain": [
       "'alicebob'"
      ]
     },
     "execution_count": 28,
     "metadata": {},
     "output_type": "execute_result"
    }
   ],
   "source": [
    "c+d"
   ]
  },
  {
   "cell_type": "markdown",
   "metadata": {},
   "source": [
    "There are a vast number of other things we can do with strings as well, which we'll discuss later.\n",
    "\n",
    "In addition to integers, floats, and strings, there are three other types of variables worth mentioning. The first is complex numbers. Python supports complex numbers, and can do all the same arithmetic operations on them that it can on floating point numbers. To enter a complex number, we use the letter j to represent the imaginary part."
   ]
  },
  {
   "cell_type": "code",
   "execution_count": 29,
   "metadata": {},
   "outputs": [],
   "source": [
    "f = 2+3j"
   ]
  },
  {
   "cell_type": "code",
   "execution_count": 30,
   "metadata": {},
   "outputs": [
    {
     "data": {
      "text/plain": [
       "(2+3j)"
      ]
     },
     "execution_count": 30,
     "metadata": {},
     "output_type": "execute_result"
    }
   ],
   "source": [
    "f"
   ]
  },
  {
   "cell_type": "code",
   "execution_count": 31,
   "metadata": {},
   "outputs": [
    {
     "data": {
      "text/plain": [
       "complex"
      ]
     },
     "execution_count": 31,
     "metadata": {},
     "output_type": "execute_result"
    }
   ],
   "source": [
    "type(f)"
   ]
  },
  {
   "cell_type": "code",
   "execution_count": 32,
   "metadata": {},
   "outputs": [
    {
     "data": {
      "text/plain": [
       "(4+3j)"
      ]
     },
     "execution_count": 32,
     "metadata": {},
     "output_type": "execute_result"
    }
   ],
   "source": [
    "f+2"
   ]
  },
  {
   "cell_type": "code",
   "execution_count": 33,
   "metadata": {},
   "outputs": [
    {
     "data": {
      "text/plain": [
       "(2+5j)"
      ]
     },
     "execution_count": 33,
     "metadata": {},
     "output_type": "execute_result"
    }
   ],
   "source": [
    "f+2j"
   ]
  },
  {
   "cell_type": "code",
   "execution_count": 34,
   "metadata": {},
   "outputs": [
    {
     "data": {
      "text/plain": [
       "(1.0999999999999999-0.3j)"
      ]
     },
     "execution_count": 34,
     "metadata": {},
     "output_type": "execute_result"
    }
   ],
   "source": [
    "f/(1+3j)"
   ]
  },
  {
   "cell_type": "code",
   "execution_count": 35,
   "metadata": {},
   "outputs": [
    {
     "data": {
      "text/plain": [
       "(-5+12j)"
      ]
     },
     "execution_count": 35,
     "metadata": {},
     "output_type": "execute_result"
    }
   ],
   "source": [
    "f**2"
   ]
  },
  {
   "cell_type": "markdown",
   "metadata": {},
   "source": [
    "We can also extract the real and imaginary parts by adding .real or .imag after the variable name, and can compute the absolute value:"
   ]
  },
  {
   "cell_type": "code",
   "execution_count": 36,
   "metadata": {},
   "outputs": [
    {
     "data": {
      "text/plain": [
       "2.0"
      ]
     },
     "execution_count": 36,
     "metadata": {},
     "output_type": "execute_result"
    }
   ],
   "source": [
    "f.real"
   ]
  },
  {
   "cell_type": "code",
   "execution_count": 37,
   "metadata": {},
   "outputs": [
    {
     "data": {
      "text/plain": [
       "3.0"
      ]
     },
     "execution_count": 37,
     "metadata": {},
     "output_type": "execute_result"
    }
   ],
   "source": [
    "f.imag"
   ]
  },
  {
   "cell_type": "code",
   "execution_count": 38,
   "metadata": {},
   "outputs": [
    {
     "data": {
      "text/plain": [
       "3.605551275463989"
      ]
     },
     "execution_count": 38,
     "metadata": {},
     "output_type": "execute_result"
    }
   ],
   "source": [
    "abs(f)"
   ]
  },
  {
   "cell_type": "markdown",
   "metadata": {},
   "source": [
    "The second type of variable is a Boolean variable (named after [George Boole](https://en.wikipedia.org/wiki/George_Boole)), which represents a logical value. Boolean variables can be either True or False:"
   ]
  },
  {
   "cell_type": "code",
   "execution_count": 39,
   "metadata": {},
   "outputs": [],
   "source": [
    "g = True"
   ]
  },
  {
   "cell_type": "code",
   "execution_count": 40,
   "metadata": {},
   "outputs": [
    {
     "data": {
      "text/plain": [
       "bool"
      ]
     },
     "execution_count": 40,
     "metadata": {},
     "output_type": "execute_result"
    }
   ],
   "source": [
    "type(g)"
   ]
  },
  {
   "cell_type": "markdown",
   "metadata": {},
   "source": [
    "Boolean variables can have logic operations performed on them, like not, and, and or:"
   ]
  },
  {
   "cell_type": "code",
   "execution_count": 41,
   "metadata": {},
   "outputs": [
    {
     "data": {
      "text/plain": [
       "False"
      ]
     },
     "execution_count": 41,
     "metadata": {},
     "output_type": "execute_result"
    }
   ],
   "source": [
    "not g"
   ]
  },
  {
   "cell_type": "code",
   "execution_count": 42,
   "metadata": {},
   "outputs": [],
   "source": [
    "h = False"
   ]
  },
  {
   "cell_type": "code",
   "execution_count": 43,
   "metadata": {},
   "outputs": [
    {
     "data": {
      "text/plain": [
       "False"
      ]
     },
     "execution_count": 43,
     "metadata": {},
     "output_type": "execute_result"
    }
   ],
   "source": [
    "g and h"
   ]
  },
  {
   "cell_type": "code",
   "execution_count": 44,
   "metadata": {},
   "outputs": [
    {
     "data": {
      "text/plain": [
       "True"
      ]
     },
     "execution_count": 44,
     "metadata": {},
     "output_type": "execute_result"
    }
   ],
   "source": [
    "g or h"
   ]
  },
  {
   "cell_type": "markdown",
   "metadata": {},
   "source": [
    "The final type of variable is None. This is a special value that is used to designate something that has not been assigned yet, or is otherwise undefined."
   ]
  },
  {
   "cell_type": "code",
   "execution_count": 45,
   "metadata": {},
   "outputs": [],
   "source": [
    "s = None"
   ]
  },
  {
   "cell_type": "code",
   "execution_count": 46,
   "metadata": {},
   "outputs": [
    {
     "data": {
      "text/plain": [
       "NoneType"
      ]
     },
     "execution_count": 46,
     "metadata": {},
     "output_type": "execute_result"
    }
   ],
   "source": [
    "type(s)"
   ]
  },
  {
   "cell_type": "markdown",
   "metadata": {},
   "source": [
    "# Arrays <a class=\"anchor\" id=\"arrays\"></a>"
   ]
  },
  {
   "cell_type": "markdown",
   "metadata": {},
   "source": [
    "Array manipulation is well handled in Python by the *numpy* package.  \n",
    "To use that package, we must import it:"
   ]
  },
  {
   "cell_type": "code",
   "execution_count": 50,
   "metadata": {},
   "outputs": [],
   "source": [
    "import numpy as np"
   ]
  },
  {
   "cell_type": "markdown",
   "metadata": {},
   "source": [
    "Common convention is to rename it \"np\" as done above.\n",
    "We can then access its methods and objects with syntax like:\n",
    "\n",
    "    np.ones()\n",
    "    np.ndarray\n",
    "    np.mean()"
   ]
  },
  {
   "cell_type": "markdown",
   "metadata": {},
   "source": [
    "## Creating 1D arrays <a class=\"anchor\" id=\"creating-1d-arrays\"></a>"
   ]
  },
  {
   "cell_type": "markdown",
   "metadata": {},
   "source": [
    "The variables we have dealt with so far are fairly simple. They represent single values. However, for scientific or numeric purposes we often want to deal with large collections of numbers. The basic tool for doing this is an array. Arrays are not part of the core python language, but they are part of the numpy extension to it, which we invoked when we started up ipython using the --pylab option at the command line. We'll discuss how to import such extensions into python in a little bit.\n",
    "\n",
    "Formally, an array is a collection of objects that all have the same type: a collection of integers, or floats, or bools, or anything else. In the simplest case, these are simply arranged into a numbered list, one after another. Think of an array as a box with a bunch of numbered compartments, each of which can hold something. For example, here is a box with eight compartments."
   ]
  },
  {
   "cell_type": "code",
   "execution_count": 48,
   "metadata": {},
   "outputs": [
    {
     "data": {
      "image/png": "[encoded data removed]",
      "text/plain": [
       "<IPython.core.display.Image object>"
      ]
     },
     "execution_count": 48,
     "metadata": {
      "image/png": {
       "width": 500
      }
     },
     "output_type": "execute_result"
    }
   ],
   "source": [
    "Image(filename = 'Figures/array_fig1.png', width=500)#, height=100)"
   ]
  },
  {
   "cell_type": "markdown",
   "metadata": {},
   "source": [
    "In python, and in many but not all computer languages, we start counting at 0, so that the first compartment is compartment 0, the second is compartment 1, and so forth. We can create an array in python in a few different ways. One is just to explicitly list the elements we want it to contain. The syntax is straightforward:"
   ]
  },
  {
   "cell_type": "code",
   "execution_count": 51,
   "metadata": {},
   "outputs": [],
   "source": [
    "x=np.array([10,11,12,13,14,15,16,17])"
   ]
  },
  {
   "cell_type": "code",
   "execution_count": 52,
   "metadata": {},
   "outputs": [
    {
     "data": {
      "text/plain": [
       "array([10, 11, 12, 13, 14, 15, 16, 17])"
      ]
     },
     "execution_count": 52,
     "metadata": {},
     "output_type": "execute_result"
    }
   ],
   "source": [
    "x"
   ]
  },
  {
   "cell_type": "markdown",
   "metadata": {},
   "source": [
    "This puts the values we specified into the appropriate compartments in the box. The array x can be thought of like this:"
   ]
  },
  {
   "cell_type": "code",
   "execution_count": 54,
   "metadata": {},
   "outputs": [
    {
     "data": {
      "image/png": "[encoded data removed]",
      "text/plain": [
       "<IPython.core.display.Image object>"
      ]
     },
     "execution_count": 54,
     "metadata": {
      "image/png": {
       "width": 500
      }
     },
     "output_type": "execute_result"
    }
   ],
   "source": [
    "Image(filename = 'Figures/array_fig2.png', width=500)#, height=100)"
   ]
  },
  {
   "cell_type": "markdown",
   "metadata": {},
   "source": [
    "In this case the array we have created is an array of integers, since each of the entries we specified was an integer. If one of them had been a floating point number (for example if we changed the 10 to 10.0), then the array would have been an array of floats, meaning that EACH entry would have been made a float. Remember the rule: every element of an array must have the same type, so if you make one them into a float, then all of them will be floats.\n",
    "\n"
   ]
  },
  {
   "cell_type": "markdown",
   "metadata": {},
   "source": [
    "We can access the first box (0th!) with the following syntax:"
   ]
  },
  {
   "cell_type": "code",
   "execution_count": 55,
   "metadata": {},
   "outputs": [
    {
     "data": {
      "text/plain": [
       "10"
      ]
     },
     "execution_count": 55,
     "metadata": {},
     "output_type": "execute_result"
    }
   ],
   "source": [
    "x[0]"
   ]
  },
  {
   "cell_type": "markdown",
   "metadata": {},
   "source": [
    "Another way to create an array is to simply give the number of elements, and set them all to be zero initially. This can be done with the zeros command:"
   ]
  },
  {
   "cell_type": "code",
   "execution_count": 56,
   "metadata": {},
   "outputs": [],
   "source": [
    "y = np.zeros(8)"
   ]
  },
  {
   "cell_type": "code",
   "execution_count": 57,
   "metadata": {},
   "outputs": [
    {
     "data": {
      "text/plain": [
       "array([0., 0., 0., 0., 0., 0., 0., 0.])"
      ]
     },
     "execution_count": 57,
     "metadata": {},
     "output_type": "execute_result"
    }
   ],
   "source": [
    "y"
   ]
  },
  {
   "cell_type": "markdown",
   "metadata": {},
   "source": [
    "The zeros command creates an array with the specified number of elements, and sets them all to zero. Note that they are all floats, which is what the zeros command creates by default. If you want some other data type, you can specify it by giving the dtype option to the zeros command and specifying the data type you want:"
   ]
  },
  {
   "cell_type": "code",
   "execution_count": 59,
   "metadata": {},
   "outputs": [],
   "source": [
    "yint = np.zeros(8, dtype='int')"
   ]
  },
  {
   "cell_type": "code",
   "execution_count": 60,
   "metadata": {},
   "outputs": [
    {
     "data": {
      "text/plain": [
       "array([0, 0, 0, 0, 0, 0, 0, 0])"
      ]
     },
     "execution_count": 60,
     "metadata": {},
     "output_type": "execute_result"
    }
   ],
   "source": [
    "yint"
   ]
  },
  {
   "cell_type": "markdown",
   "metadata": {},
   "source": [
    "The analogous command *np.ones* creates an array where every element is 1. A third way to create arrays is using the arange command. This creates an array with specified starting and ending values, and with a specified step size. For example:"
   ]
  },
  {
   "cell_type": "code",
   "execution_count": 61,
   "metadata": {},
   "outputs": [],
   "source": [
    "z = np.arange(0,16,2)"
   ]
  },
  {
   "cell_type": "code",
   "execution_count": 62,
   "metadata": {},
   "outputs": [
    {
     "data": {
      "text/plain": [
       "array([ 0,  2,  4,  6,  8, 10, 12, 14])"
      ]
     },
     "execution_count": 62,
     "metadata": {},
     "output_type": "execute_result"
    }
   ],
   "source": [
    "z"
   ]
  },
  {
   "cell_type": "markdown",
   "metadata": {},
   "source": [
    "The first argument to *np.arange()* is the starting value, the second is the ending value (notice that this is exclusive, not inclusive, so in the above example the array z does not contain the number 16), and the final entry is the step size. Again, because all the entries were integers, the array consists of integers. If one of them had been a float, the array would have contained floats. Note that one can omit the final entry in arange, in which case the step size defaults to a value of 1. One can also omit the second entry (for example just say *np.arange(8)*), in which case the array created starts with 0 as the first entry, has a step size of 1, and contains the number of entries specified in the argument. Thus *np.arange(8)* creates an array that contains the numbers 0 to 7."
   ]
  },
  {
   "cell_type": "markdown",
   "metadata": {},
   "source": [
    "## Manipulation <a class=\"anchor\" id=\"manipulation\"></a>"
   ]
  },
  {
   "cell_type": "markdown",
   "metadata": {},
   "source": [
    "So how do we deal with arrays? What can we do with them?\n",
    "\n",
    "One way to deal with an array is to interact with its elements individually. We can do that by specifying their index, which designates which compartment in the box we want to access. We can then print out values, alter them, or do any other operation on them we could do with a simple number. The way we index an array is by putting a number in square brackets after it. For example:"
   ]
  },
  {
   "cell_type": "code",
   "execution_count": 63,
   "metadata": {},
   "outputs": [
    {
     "data": {
      "text/plain": [
       "12"
      ]
     },
     "execution_count": 63,
     "metadata": {},
     "output_type": "execute_result"
    }
   ],
   "source": [
    "x[2]"
   ]
  },
  {
   "cell_type": "code",
   "execution_count": 64,
   "metadata": {},
   "outputs": [
    {
     "data": {
      "text/plain": [
       "24"
      ]
     },
     "execution_count": 64,
     "metadata": {},
     "output_type": "execute_result"
    }
   ],
   "source": [
    "x[2]*2"
   ]
  },
  {
   "cell_type": "code",
   "execution_count": 65,
   "metadata": {},
   "outputs": [],
   "source": [
    "x[2] = 32"
   ]
  },
  {
   "cell_type": "code",
   "execution_count": 66,
   "metadata": {},
   "outputs": [
    {
     "data": {
      "text/plain": [
       "array([10, 11, 32, 13, 14, 15, 16, 17])"
      ]
     },
     "execution_count": 66,
     "metadata": {},
     "output_type": "execute_result"
    }
   ],
   "source": [
    "x"
   ]
  },
  {
   "cell_type": "markdown",
   "metadata": {},
   "source": [
    "In this example, we printed out the value stored in compartment number 2 of the array x, we multiplied it by 2 to get a result, and then we assigned it to a different value (32).\n",
    "\n",
    "So why are arrays more useful than just individual variables? There are a number of reasons, but one of the most important is called broadcasting, meaning that we can access, perform arithmetic with, and alter multiple elements of an array at once. We specify parts of an array by giving a range of indices in the square brackets, separated by a colon. For example,"
   ]
  },
  {
   "cell_type": "code",
   "execution_count": 67,
   "metadata": {},
   "outputs": [
    {
     "data": {
      "text/plain": [
       "array([11, 32, 13])"
      ]
     },
     "execution_count": 67,
     "metadata": {},
     "output_type": "execute_result"
    }
   ],
   "source": [
    "x[1:4]"
   ]
  },
  {
   "cell_type": "markdown",
   "metadata": {},
   "source": [
    "Here the number before the colon specifies the starting index, and the number after the colon specifies the ending index; this is exclusive, not inclusive, so the ending index element is not included. If we omit the number before the colon, the region of the array we are referring to is assumed to start from element 0, and if we omit the number after the colon, it is assumed to end at the last element:"
   ]
  },
  {
   "cell_type": "code",
   "execution_count": 68,
   "metadata": {},
   "outputs": [
    {
     "data": {
      "text/plain": [
       "array([10, 11, 32, 13])"
      ]
     },
     "execution_count": 68,
     "metadata": {},
     "output_type": "execute_result"
    }
   ],
   "source": [
    "x[:4]"
   ]
  },
  {
   "cell_type": "code",
   "execution_count": 69,
   "metadata": {},
   "outputs": [
    {
     "data": {
      "text/plain": [
       "array([14, 15, 16, 17])"
      ]
     },
     "execution_count": 69,
     "metadata": {},
     "output_type": "execute_result"
    }
   ],
   "source": [
    "x[4:]"
   ]
  },
  {
   "cell_type": "markdown",
   "metadata": {},
   "source": [
    "We can also specify that we want not every element, but every 2nd element, or every 3rd element, etc., within our specified range. For example:"
   ]
  },
  {
   "cell_type": "code",
   "execution_count": 70,
   "metadata": {},
   "outputs": [
    {
     "data": {
      "text/plain": [
       "array([10, 32, 14, 16])"
      ]
     },
     "execution_count": 70,
     "metadata": {},
     "output_type": "execute_result"
    }
   ],
   "source": [
    "x[::2]"
   ]
  },
  {
   "cell_type": "markdown",
   "metadata": {},
   "source": [
    "Here the empty space before the first colon says to start at element 0, the empty space between the first and second colons says to end at the end of the array, and the number 2 after the colon says to access every 2nd element, rather than every element, which is the default.\n",
    "\n",
    "Finally, array indices can be specified either as positive numbers, which count from the beginning, or as negative numbers, which count from the end. The last element is -1, the second to last is -2, and so forth, as shown below:\n",
    "\n"
   ]
  },
  {
   "cell_type": "code",
   "execution_count": 71,
   "metadata": {},
   "outputs": [
    {
     "data": {
      "image/png": "[encoded data removed]",
      "text/plain": [
       "<IPython.core.display.Image object>"
      ]
     },
     "execution_count": 71,
     "metadata": {
      "image/png": {
       "width": 500
      }
     },
     "output_type": "execute_result"
    }
   ],
   "source": [
    "Image(filename = 'Figures/array_fig3.png', width=500)#, height=100)"
   ]
  },
  {
   "cell_type": "markdown",
   "metadata": {},
   "source": [
    "This is convenient, for example, if one wants to refer to all but the last 2 elements of an array:"
   ]
  },
  {
   "cell_type": "code",
   "execution_count": 72,
   "metadata": {},
   "outputs": [
    {
     "data": {
      "text/plain": [
       "array([10, 11, 32, 13, 14, 15])"
      ]
     },
     "execution_count": 72,
     "metadata": {},
     "output_type": "execute_result"
    }
   ],
   "source": [
    "x[:-2]"
   ]
  },
  {
   "cell_type": "markdown",
   "metadata": {},
   "source": [
    "The really useful thing is that one can use this capability to perform mathematical operations or assignments to multiple elements of an array at once. For example:"
   ]
  },
  {
   "cell_type": "code",
   "execution_count": 73,
   "metadata": {},
   "outputs": [
    {
     "data": {
      "text/plain": [
       "array([ 0,  1, 22,  3,  4,  5,  6,  7])"
      ]
     },
     "execution_count": 73,
     "metadata": {},
     "output_type": "execute_result"
    }
   ],
   "source": [
    "x - 10"
   ]
  },
  {
   "cell_type": "code",
   "execution_count": 74,
   "metadata": {},
   "outputs": [
    {
     "data": {
      "text/plain": [
       "array([ 1, 22,  3])"
      ]
     },
     "execution_count": 74,
     "metadata": {},
     "output_type": "execute_result"
    }
   ],
   "source": [
    "x[1:4] - 10"
   ]
  },
  {
   "cell_type": "code",
   "execution_count": 75,
   "metadata": {},
   "outputs": [],
   "source": [
    "x[1:4] = -10"
   ]
  },
  {
   "cell_type": "code",
   "execution_count": 76,
   "metadata": {},
   "outputs": [
    {
     "data": {
      "text/plain": [
       "array([ 10, -10, -10, -10,  14,  15,  16,  17])"
      ]
     },
     "execution_count": 76,
     "metadata": {},
     "output_type": "execute_result"
    }
   ],
   "source": [
    "x"
   ]
  },
  {
   "cell_type": "code",
   "execution_count": 77,
   "metadata": {},
   "outputs": [],
   "source": [
    "x[::2] = 5"
   ]
  },
  {
   "cell_type": "code",
   "execution_count": 78,
   "metadata": {},
   "outputs": [
    {
     "data": {
      "text/plain": [
       "array([  5, -10,   5, -10,   5,  15,   5,  17])"
      ]
     },
     "execution_count": 78,
     "metadata": {},
     "output_type": "execute_result"
    }
   ],
   "source": [
    "x"
   ]
  },
  {
   "cell_type": "markdown",
   "metadata": {},
   "source": [
    "One can also do operations involving two arrays with the same number of elements. These operations are performed element by element. For example:"
   ]
  },
  {
   "cell_type": "code",
   "execution_count": 79,
   "metadata": {},
   "outputs": [],
   "source": [
    "x = np.arange(10)"
   ]
  },
  {
   "cell_type": "code",
   "execution_count": 80,
   "metadata": {},
   "outputs": [],
   "source": [
    "y = np.arange(10)*2"
   ]
  },
  {
   "cell_type": "code",
   "execution_count": 81,
   "metadata": {},
   "outputs": [
    {
     "data": {
      "text/plain": [
       "array([ 0,  3,  6,  9, 12, 15, 18, 21, 24, 27])"
      ]
     },
     "execution_count": 81,
     "metadata": {},
     "output_type": "execute_result"
    }
   ],
   "source": [
    "x+y"
   ]
  },
  {
   "cell_type": "markdown",
   "metadata": {},
   "source": [
    "In this example, x is filled with 0, 1, 2, ... 9, and y is filled with 0, 2, 4, ... 18. When we add them, we get 0, 3, 6, ... 27. The arrays are added together one element at a time, producing an output array that has the same number of elements as the two inputs.\n",
    "\n",
    "These capabilities for manipulating multiple elements at once are very convenient for manipulating large groups of numbers."
   ]
  },
  {
   "cell_type": "markdown",
   "metadata": {},
   "source": [
    "## Multidimensional arrays <a class=\"anchor\" id=\"multidimensional\"></a>"
   ]
  },
  {
   "cell_type": "markdown",
   "metadata": {},
   "source": [
    "The arrays we've played with so far are one-dimensional, meaning that they look like a series of boxes laid out in a line. However, arrays can be multidimensional as well. For example:"
   ]
  },
  {
   "cell_type": "code",
   "execution_count": 82,
   "metadata": {},
   "outputs": [],
   "source": [
    "x2d = np.array([[10,11,12,13,14,15,16,17], [20,21,22,23,24,25,26,27], [30, 31, 32, 33, 34, 35, 36, 37]])"
   ]
  },
  {
   "cell_type": "code",
   "execution_count": 83,
   "metadata": {},
   "outputs": [
    {
     "data": {
      "text/plain": [
       "array([[10, 11, 12, 13, 14, 15, 16, 17],\n",
       "       [20, 21, 22, 23, 24, 25, 26, 27],\n",
       "       [30, 31, 32, 33, 34, 35, 36, 37]])"
      ]
     },
     "execution_count": 83,
     "metadata": {},
     "output_type": "execute_result"
    }
   ],
   "source": [
    "x2d"
   ]
  },
  {
   "cell_type": "markdown",
   "metadata": {},
   "source": [
    "You can think of this as a box with multiple rows of compartments:"
   ]
  },
  {
   "cell_type": "code",
   "execution_count": 84,
   "metadata": {},
   "outputs": [
    {
     "data": {
      "image/png": "[encoded data removed]",
      "text/plain": [
       "<IPython.core.display.Image object>"
      ]
     },
     "execution_count": 84,
     "metadata": {
      "image/png": {
       "width": 500
      }
     },
     "output_type": "execute_result"
    }
   ],
   "source": [
    "Image(filename = 'Figures/array_fig4.png', width=500)#, height=100)"
   ]
  },
  {
   "cell_type": "markdown",
   "metadata": {},
   "source": [
    "The zeros and ones commands also work in multiple dimensions. You just have to specify the size of each dimension:"
   ]
  },
  {
   "cell_type": "code",
   "execution_count": 85,
   "metadata": {},
   "outputs": [],
   "source": [
    "y2d = np.zeros((3,7))"
   ]
  },
  {
   "cell_type": "code",
   "execution_count": 86,
   "metadata": {},
   "outputs": [
    {
     "data": {
      "text/plain": [
       "array([[0., 0., 0., 0., 0., 0., 0.],\n",
       "       [0., 0., 0., 0., 0., 0., 0.],\n",
       "       [0., 0., 0., 0., 0., 0., 0.]])"
      ]
     },
     "execution_count": 86,
     "metadata": {},
     "output_type": "execute_result"
    }
   ],
   "source": [
    "y2d"
   ]
  },
  {
   "cell_type": "markdown",
   "metadata": {},
   "source": [
    "Similarly, one can index multi-dimensional arrays just by indexing each dimension in turn:"
   ]
  },
  {
   "cell_type": "code",
   "execution_count": 87,
   "metadata": {},
   "outputs": [
    {
     "data": {
      "text/plain": [
       "array([10, 11, 12, 13, 14, 15, 16, 17])"
      ]
     },
     "execution_count": 87,
     "metadata": {},
     "output_type": "execute_result"
    }
   ],
   "source": [
    "x2d[0,:]"
   ]
  },
  {
   "cell_type": "code",
   "execution_count": 88,
   "metadata": {},
   "outputs": [
    {
     "data": {
      "text/plain": [
       "array([11, 21, 31])"
      ]
     },
     "execution_count": 88,
     "metadata": {},
     "output_type": "execute_result"
    }
   ],
   "source": [
    "x2d[:,1]"
   ]
  },
  {
   "cell_type": "code",
   "execution_count": 89,
   "metadata": {},
   "outputs": [
    {
     "data": {
      "text/plain": [
       "array([[11, 12, 13],\n",
       "       [21, 22, 23],\n",
       "       [31, 32, 33]])"
      ]
     },
     "execution_count": 89,
     "metadata": {},
     "output_type": "execute_result"
    }
   ],
   "source": [
    "x2d[:,1:4]"
   ]
  },
  {
   "cell_type": "markdown",
   "metadata": {},
   "source": [
    "Just as one can do arithmetic operations involving two one-dimensional arrays of the same size, one can also to arithmetic operations on two multi-dimensional arrays with the same size in every dimension. As in the one-dimensional case, these operations are performed element by element.\n",
    "\n",
    "Arrays store information about how many dimensions they have and what their sizes are, and you can access this information by putting the name of the array followed by .ndim or .shape:"
   ]
  },
  {
   "cell_type": "code",
   "execution_count": 90,
   "metadata": {},
   "outputs": [
    {
     "data": {
      "text/plain": [
       "2"
      ]
     },
     "execution_count": 90,
     "metadata": {},
     "output_type": "execute_result"
    }
   ],
   "source": [
    "x2d.ndim"
   ]
  },
  {
   "cell_type": "code",
   "execution_count": 91,
   "metadata": {},
   "outputs": [
    {
     "data": {
      "text/plain": [
       "(3, 8)"
      ]
     },
     "execution_count": 91,
     "metadata": {},
     "output_type": "execute_result"
    }
   ],
   "source": [
    "x2d.shape"
   ]
  },
  {
   "cell_type": "markdown",
   "metadata": {},
   "source": [
    "Arrays can of course have more than two dimensions as well. In fact, there is no limit to how many dimensions they can have.\n",
    "\n",
    "You can also do useful things like find the maximum and minimum values in arrays, and their means and totals:"
   ]
  },
  {
   "cell_type": "code",
   "execution_count": 92,
   "metadata": {},
   "outputs": [
    {
     "data": {
      "text/plain": [
       "10"
      ]
     },
     "execution_count": 92,
     "metadata": {},
     "output_type": "execute_result"
    }
   ],
   "source": [
    "np.amin(x2d)"
   ]
  },
  {
   "cell_type": "code",
   "execution_count": 93,
   "metadata": {},
   "outputs": [
    {
     "data": {
      "text/plain": [
       "37"
      ]
     },
     "execution_count": 93,
     "metadata": {},
     "output_type": "execute_result"
    }
   ],
   "source": [
    "np.amax(x2d)"
   ]
  },
  {
   "cell_type": "code",
   "execution_count": 94,
   "metadata": {},
   "outputs": [
    {
     "data": {
      "text/plain": [
       "23.5"
      ]
     },
     "execution_count": 94,
     "metadata": {},
     "output_type": "execute_result"
    }
   ],
   "source": [
    "np.mean(x2d)"
   ]
  },
  {
   "cell_type": "code",
   "execution_count": 95,
   "metadata": {},
   "outputs": [
    {
     "data": {
      "text/plain": [
       "564"
      ]
     },
     "execution_count": 95,
     "metadata": {},
     "output_type": "execute_result"
    }
   ],
   "source": [
    "np.sum(x2d)"
   ]
  },
  {
   "cell_type": "markdown",
   "metadata": {},
   "source": [
    "In addition to the capabilities we've just gone through, arrays can do far more. For a full list, see http://docs.scipy.org/doc/numpy/reference/arrays.ndarray.html."
   ]
  },
  {
   "cell_type": "markdown",
   "metadata": {},
   "source": [
    "## Plotting arrays: the basics <a class=\"anchor\" id=\"plotting-basics\"></a>"
   ]
  },
  {
   "cell_type": "markdown",
   "metadata": {},
   "source": [
    "One capability that we will use extensively for the rest of this workshop, and that we will explore in much more detail on Wednesday, is making plots. The *matplotlib* plotting commands take arrays as input, and can plot them together in a variety of ways.  To have access to this functionality, we must import the package:"
   ]
  },
  {
   "cell_type": "code",
   "execution_count": 96,
   "metadata": {},
   "outputs": [],
   "source": [
    "from matplotlib import pyplot as plt"
   ]
  },
  {
   "cell_type": "markdown",
   "metadata": {},
   "source": [
    "The standard approach is as above, to import a portion of *matplotlib* known as *pylot* and rename it to *plt*.\n",
    "\n",
    "With that imported, we can plot one period of the sin function as follows:"
   ]
  },
  {
   "cell_type": "code",
   "execution_count": 98,
   "metadata": {},
   "outputs": [],
   "source": [
    "x = np.arange(0, 2*np.pi, 0.01)"
   ]
  },
  {
   "cell_type": "code",
   "execution_count": 99,
   "metadata": {},
   "outputs": [
    {
     "data": {
      "text/plain": [
       "[<matplotlib.lines.Line2D at 0x7fd813d4c748>]"
      ]
     },
     "execution_count": 99,
     "metadata": {},
     "output_type": "execute_result"
    },
    {
     "data": {
      "image/png": "[encoded data removed]",
      "text/plain": [
       "<Figure size 432x288 with 1 Axes>"
      ]
     },
     "metadata": {
      "needs_background": "light"
     },
     "output_type": "display_data"
    }
   ],
   "source": [
    "plt.plot(x, np.sin(x))"
   ]
  },
  {
   "cell_type": "markdown",
   "metadata": {},
   "source": [
    "The first command uses the *np.arange()* command to create an array that starts at 0 and goes up to 2 pi in steps of 0.01, and the second command plots x versus sin(x). Note that numpy pre-defines the number *np.pi* for you, and also knows the basic trig functions such as *np.sin()*, as well as many other functions as well. The format of the plot command is that you specify two arrays, one that gives the x coordinates of the points, and a second giving the y coordinates. Hopefully you see a window on your screen that looks like the one above."
   ]
  },
  {
   "cell_type": "markdown",
   "metadata": {},
   "source": [
    "# Other Ways of Interacting with Python <a class=\"anchor\" id=\"other-ways\"></a>"
   ]
  },
  {
   "cell_type": "markdown",
   "metadata": {},
   "source": [
    "## Jupyter Notebook <a class=\"anchor\" id=\"jupyter-notebook\"></a>"
   ]
  },
  {
   "cell_type": "markdown",
   "metadata": {},
   "source": [
    "Thus far we've been interacting with python using ipython from the command line. Another very useful way of interacting with python is through an ipython notebook. The ipython notebook is basically a graphical user interface that sits on top of ipython sessions like the one we've just been through. It uses your web browser to provide the front end. To start up a notebook, let's first exit from our ipython command line session.\n",
    "\n",
    "    In [78]: exit"
   ]
  },
  {
   "cell_type": "markdown",
   "metadata": {},
   "source": [
    "Then let's start up the ipython notebook:\n",
    "\n",
    "    profx> jupyter notebook"
   ]
  },
  {
   "cell_type": "markdown",
   "metadata": {},
   "source": [
    "This should pop up a web browser window that looks something like this:"
   ]
  },
  {
   "cell_type": "code",
   "execution_count": 101,
   "metadata": {},
   "outputs": [
    {
     "data": {
      "image/png": "[encoded data removed]",
      "text/plain": [
       "<IPython.core.display.Image object>"
      ]
     },
     "execution_count": 101,
     "metadata": {
      "image/png": {
       "width": 800
      }
     },
     "output_type": "execute_result"
    }
   ],
   "source": [
    "Image(filename = 'Figures/jupyter.png', width=800)#, height=100)"
   ]
  },
  {
   "cell_type": "markdown",
   "metadata": {},
   "source": [
    "Then click on \"New\" to start up a notebook by selecting \"Python 3\". \n",
    "You will then see something like this:"
   ]
  },
  {
   "cell_type": "code",
   "execution_count": 102,
   "metadata": {},
   "outputs": [
    {
     "data": {
      "image/png": "[encoded data removed]",
      "text/plain": [
       "<IPython.core.display.Image object>"
      ]
     },
     "execution_count": 102,
     "metadata": {
      "image/png": {
       "width": 800
      }
     },
     "output_type": "execute_result"
    }
   ],
   "source": [
    "Image(filename = 'Figures/jupyter2.png', width=800)#, height=100)"
   ]
  },
  {
   "cell_type": "markdown",
   "metadata": {},
   "source": [
    "One nice thing about the notebook is that you can embed plots inside that can be interactive. To enable this capability, enter the command:"
   ]
  },
  {
   "cell_type": "code",
   "execution_count": 103,
   "metadata": {},
   "outputs": [],
   "source": [
    "%matplotlib notebook"
   ]
  },
  {
   "cell_type": "markdown",
   "metadata": {},
   "source": [
    "You'll need to use your mouse to click on the cell where you want to enter this, and to run the command you do shift-enter rather than just enter.\n",
    "\n",
    "The next thing we want to do is import our plotting and array manipulation capabilities. As above, you have to do this explicitly. We add these capabilities using the import command, which tells python to read some external files that define new functions, variables, etc., and incorporate them into the current session. So in the next, empty cell, we give the commands:\n",
    "\n",
    "    import numpy as np\n",
    "    from matplotlib import pyplot as plt"
   ]
  },
  {
   "cell_type": "markdown",
   "metadata": {},
   "source": [
    "Again, do shift-enter to execute. Note that you can put more than one command on a line before executing. These commands import all the commands from the the numpy and pyplot packages, which include commands like arange, plot, etc. \n",
    "\n",
    "Finally, we're ready to make a plot:"
   ]
  },
  {
   "cell_type": "code",
   "execution_count": 104,
   "metadata": {},
   "outputs": [
    {
     "data": {
      "application/javascript": [
       "/* Put everything inside the global mpl namespace */\n",
       "window.mpl = {};\n",
       "\n",
       "\n",
       "mpl.get_websocket_type = function() {\n",
       "    if (typeof(WebSocket) !== 'undefined') {\n",
       "        return WebSocket;\n",
       "    } else if (typeof(MozWebSocket) !== 'undefined') {\n",
       "        return MozWebSocket;\n",
       "    } else {\n",
       "        alert('Your browser does not have WebSocket support. ' +\n",
       "              'Please try Chrome, Safari or Firefox ≥ 6. ' +\n",
       "              'Firefox 4 and 5 are also supported but you ' +\n",
       "              'have to enable WebSockets in about:config.');\n",
       "    };\n",
       "}\n",
       "\n",
       "mpl.figure = function(figure_id, websocket, ondownload, parent_element) {\n",
       "    this.id = figure_id;\n",
       "\n",
       "    this.ws = websocket;\n",
       "\n",
       "    this.supports_binary = (this.ws.binaryType != undefined);\n",
       "\n",
       "    if (!this.supports_binary) {\n",
       "        var warnings = document.getElementById(\"mpl-warnings\");\n",
       "        if (warnings) {\n",
       "            warnings.style.display = 'block';\n",
       "            warnings.textContent = (\n",
       "                \"This browser does not support binary websocket messages. \" +\n",
       "                    \"Performance may be slow.\");\n",
       "        }\n",
       "    }\n",
       "\n",
       "    this.imageObj = new Image();\n",
       "\n",
       "    this.context = undefined;\n",
       "    this.message = undefined;\n",
       "    this.canvas = undefined;\n",
       "    this.rubberband_canvas = undefined;\n",
       "    this.rubberband_context = undefined;\n",
       "    this.format_dropdown = undefined;\n",
       "\n",
       "    this.image_mode = 'full';\n",
       "\n",
       "    this.root = $('<div/>');\n",
       "    this._root_extra_style(this.root)\n",
       "    this.root.attr('style', 'display: inline-block');\n",
       "\n",
       "    $(parent_element).append(this.root);\n",
       "\n",
       "    this._init_header(this);\n",
       "    this._init_canvas(this);\n",
       "    this._init_toolbar(this);\n",
       "\n",
       "    var fig = this;\n",
       "\n",
       "    this.waiting = false;\n",
       "\n",
       "    this.ws.onopen =  function () {\n",
       "            fig.send_message(\"supports_binary\", {value: fig.supports_binary});\n",
       "            fig.send_message(\"send_image_mode\", {});\n",
       "            if (mpl.ratio != 1) {\n",
       "                fig.send_message(\"set_dpi_ratio\", {'dpi_ratio': mpl.ratio});\n",
       "            }\n",
       "            fig.send_message(\"refresh\", {});\n",
       "        }\n",
       "\n",
       "    this.imageObj.onload = function() {\n",
       "            if (fig.image_mode == 'full') {\n",
       "                // Full images could contain transparency (where diff images\n",
       "                // almost always do), so we need to clear the canvas so that\n",
       "                // there is no ghosting.\n",
       "                fig.context.clearRect(0, 0, fig.canvas.width, fig.canvas.height);\n",
       "            }\n",
       "            fig.context.drawImage(fig.imageObj, 0, 0);\n",
       "        };\n",
       "\n",
       "    this.imageObj.onunload = function() {\n",
       "        fig.ws.close();\n",
       "    }\n",
       "\n",
       "    this.ws.onmessage = this._make_on_message_function(this);\n",
       "\n",
       "    this.ondownload = ondownload;\n",
       "}\n",
       "\n",
       "mpl.figure.prototype._init_header = function() {\n",
       "    var titlebar = $(\n",
       "        '<div class=\"ui-dialog-titlebar ui-widget-header ui-corner-all ' +\n",
       "        'ui-helper-clearfix\"/>');\n",
       "    var titletext = $(\n",
       "        '<div class=\"ui-dialog-title\" style=\"width: 100%; ' +\n",
       "        'text-align: center; padding: 3px;\"/>');\n",
       "    titlebar.append(titletext)\n",
       "    this.root.append(titlebar);\n",
       "    this.header = titletext[0];\n",
       "}\n",
       "\n",
       "\n",
       "\n",
       "mpl.figure.prototype._canvas_extra_style = function(canvas_div) {\n",
       "\n",
       "}\n",
       "\n",
       "\n",
       "mpl.figure.prototype._root_extra_style = function(canvas_div) {\n",
       "\n",
       "}\n",
       "\n",
       "mpl.figure.prototype._init_canvas = function() {\n",
       "    var fig = this;\n",
       "\n",
       "    var canvas_div = $('<div/>');\n",
       "\n",
       "    canvas_div.attr('style', 'position: relative; clear: both; outline: 0');\n",
       "\n",
       "    function canvas_keyboard_event(event) {\n",
       "        return fig.key_event(event, event['data']);\n",
       "    }\n",
       "\n",
       "    canvas_div.keydown('key_press', canvas_keyboard_event);\n",
       "    canvas_div.keyup('key_release', canvas_keyboard_event);\n",
       "    this.canvas_div = canvas_div\n",
       "    this._canvas_extra_style(canvas_div)\n",
       "    this.root.append(canvas_div);\n",
       "\n",
       "    var canvas = $('<canvas/>');\n",
       "    canvas.addClass('mpl-canvas');\n",
       "    canvas.attr('style', \"left: 0; top: 0; z-index: 0; outline: 0\")\n",
       "\n",
       "    this.canvas = canvas[0];\n",
       "    this.context = canvas[0].getContext(\"2d\");\n",
       "\n",
       "    var backingStore = this.context.backingStorePixelRatio ||\n",
       "\tthis.context.webkitBackingStorePixelRatio ||\n",
       "\tthis.context.mozBackingStorePixelRatio ||\n",
       "\tthis.context.msBackingStorePixelRatio ||\n",
       "\tthis.context.oBackingStorePixelRatio ||\n",
       "\tthis.context.backingStorePixelRatio || 1;\n",
       "\n",
       "    mpl.ratio = (window.devicePixelRatio || 1) / backingStore;\n",
       "\n",
       "    var rubberband = $('<canvas/>');\n",
       "    rubberband.attr('style', \"position: absolute; left: 0; top: 0; z-index: 1;\")\n",
       "\n",
       "    var pass_mouse_events = true;\n",
       "\n",
       "    canvas_div.resizable({\n",
       "        start: function(event, ui) {\n",
       "            pass_mouse_events = false;\n",
       "        },\n",
       "        resize: function(event, ui) {\n",
       "            fig.request_resize(ui.size.width, ui.size.height);\n",
       "        },\n",
       "        stop: function(event, ui) {\n",
       "            pass_mouse_events = true;\n",
       "            fig.request_resize(ui.size.width, ui.size.height);\n",
       "        },\n",
       "    });\n",
       "\n",
       "    function mouse_event_fn(event) {\n",
       "        if (pass_mouse_events)\n",
       "            return fig.mouse_event(event, event['data']);\n",
       "    }\n",
       "\n",
       "    rubberband.mousedown('button_press', mouse_event_fn);\n",
       "    rubberband.mouseup('button_release', mouse_event_fn);\n",
       "    // Throttle sequential mouse events to 1 every 20ms.\n",
       "    rubberband.mousemove('motion_notify', mouse_event_fn);\n",
       "\n",
       "    rubberband.mouseenter('figure_enter', mouse_event_fn);\n",
       "    rubberband.mouseleave('figure_leave', mouse_event_fn);\n",
       "\n",
       "    canvas_div.on(\"wheel\", function (event) {\n",
       "        event = event.originalEvent;\n",
       "        event['data'] = 'scroll'\n",
       "        if (event.deltaY < 0) {\n",
       "            event.step = 1;\n",
       "        } else {\n",
       "            event.step = -1;\n",
       "        }\n",
       "        mouse_event_fn(event);\n",
       "    });\n",
       "\n",
       "    canvas_div.append(canvas);\n",
       "    canvas_div.append(rubberband);\n",
       "\n",
       "    this.rubberband = rubberband;\n",
       "    this.rubberband_canvas = rubberband[0];\n",
       "    this.rubberband_context = rubberband[0].getContext(\"2d\");\n",
       "    this.rubberband_context.strokeStyle = \"#000000\";\n",
       "\n",
       "    this._resize_canvas = function(width, height) {\n",
       "        // Keep the size of the canvas, canvas container, and rubber band\n",
       "        // canvas in synch.\n",
       "        canvas_div.css('width', width)\n",
       "        canvas_div.css('height', height)\n",
       "\n",
       "        canvas.attr('width', width * mpl.ratio);\n",
       "        canvas.attr('height', height * mpl.ratio);\n",
       "        canvas.attr('style', 'width: ' + width + 'px; height: ' + height + 'px;');\n",
       "\n",
       "        rubberband.attr('width', width);\n",
       "        rubberband.attr('height', height);\n",
       "    }\n",
       "\n",
       "    // Set the figure to an initial 600x600px, this will subsequently be updated\n",
       "    // upon first draw.\n",
       "    this._resize_canvas(600, 600);\n",
       "\n",
       "    // Disable right mouse context menu.\n",
       "    $(this.rubberband_canvas).bind(\"contextmenu\",function(e){\n",
       "        return false;\n",
       "    });\n",
       "\n",
       "    function set_focus () {\n",
       "        canvas.focus();\n",
       "        canvas_div.focus();\n",
       "    }\n",
       "\n",
       "    window.setTimeout(set_focus, 100);\n",
       "}\n",
       "\n",
       "mpl.figure.prototype._init_toolbar = function() {\n",
       "    var fig = this;\n",
       "\n",
       "    var nav_element = $('<div/>');\n",
       "    nav_element.attr('style', 'width: 100%');\n",
       "    this.root.append(nav_element);\n",
       "\n",
       "    // Define a callback function for later on.\n",
       "    function toolbar_event(event) {\n",
       "        return fig.toolbar_button_onclick(event['data']);\n",
       "    }\n",
       "    function toolbar_mouse_event(event) {\n",
       "        return fig.toolbar_button_onmouseover(event['data']);\n",
       "    }\n",
       "\n",
       "    for(var toolbar_ind in mpl.toolbar_items) {\n",
       "        var name = mpl.toolbar_items[toolbar_ind][0];\n",
       "        var tooltip = mpl.toolbar_items[toolbar_ind][1];\n",
       "        var image = mpl.toolbar_items[toolbar_ind][2];\n",
       "        var method_name = mpl.toolbar_items[toolbar_ind][3];\n",
       "\n",
       "        if (!name) {\n",
       "            // put a spacer in here.\n",
       "            continue;\n",
       "        }\n",
       "        var button = $('<button/>');\n",
       "        button.addClass('ui-button ui-widget ui-state-default ui-corner-all ' +\n",
       "                        'ui-button-icon-only');\n",
       "        button.attr('role', 'button');\n",
       "        button.attr('aria-disabled', 'false');\n",
       "        button.click(method_name, toolbar_event);\n",
       "        button.mouseover(tooltip, toolbar_mouse_event);\n",
       "\n",
       "        var icon_img = $('<span/>');\n",
       "        icon_img.addClass('ui-button-icon-primary ui-icon');\n",
       "        icon_img.addClass(image);\n",
       "        icon_img.addClass('ui-corner-all');\n",
       "\n",
       "        var tooltip_span = $('<span/>');\n",
       "        tooltip_span.addClass('ui-button-text');\n",
       "        tooltip_span.html(tooltip);\n",
       "\n",
       "        button.append(icon_img);\n",
       "        button.append(tooltip_span);\n",
       "\n",
       "        nav_element.append(button);\n",
       "    }\n",
       "\n",
       "    var fmt_picker_span = $('<span/>');\n",
       "\n",
       "    var fmt_picker = $('<select/>');\n",
       "    fmt_picker.addClass('mpl-toolbar-option ui-widget ui-widget-content');\n",
       "    fmt_picker_span.append(fmt_picker);\n",
       "    nav_element.append(fmt_picker_span);\n",
       "    this.format_dropdown = fmt_picker[0];\n",
       "\n",
       "    for (var ind in mpl.extensions) {\n",
       "        var fmt = mpl.extensions[ind];\n",
       "        var option = $(\n",
       "            '<option/>', {selected: fmt === mpl.default_extension}).html(fmt);\n",
       "        fmt_picker.append(option);\n",
       "    }\n",
       "\n",
       "    // Add hover states to the ui-buttons\n",
       "    $( \".ui-button\" ).hover(\n",
       "        function() { $(this).addClass(\"ui-state-hover\");},\n",
       "        function() { $(this).removeClass(\"ui-state-hover\");}\n",
       "    );\n",
       "\n",
       "    var status_bar = $('<span class=\"mpl-message\"/>');\n",
       "    nav_element.append(status_bar);\n",
       "    this.message = status_bar[0];\n",
       "}\n",
       "\n",
       "mpl.figure.prototype.request_resize = function(x_pixels, y_pixels) {\n",
       "    // Request matplotlib to resize the figure. Matplotlib will then trigger a resize in the client,\n",
       "    // which will in turn request a refresh of the image.\n",
       "    this.send_message('resize', {'width': x_pixels, 'height': y_pixels});\n",
       "}\n",
       "\n",
       "mpl.figure.prototype.send_message = function(type, properties) {\n",
       "    properties['type'] = type;\n",
       "    properties['figure_id'] = this.id;\n",
       "    this.ws.send(JSON.stringify(properties));\n",
       "}\n",
       "\n",
       "mpl.figure.prototype.send_draw_message = function() {\n",
       "    if (!this.waiting) {\n",
       "        this.waiting = true;\n",
       "        this.ws.send(JSON.stringify({type: \"draw\", figure_id: this.id}));\n",
       "    }\n",
       "}\n",
       "\n",
       "\n",
       "mpl.figure.prototype.handle_save = function(fig, msg) {\n",
       "    var format_dropdown = fig.format_dropdown;\n",
       "    var format = format_dropdown.options[format_dropdown.selectedIndex].value;\n",
       "    fig.ondownload(fig, format);\n",
       "}\n",
       "\n",
       "\n",
       "mpl.figure.prototype.handle_resize = function(fig, msg) {\n",
       "    var size = msg['size'];\n",
       "    if (size[0] != fig.canvas.width || size[1] != fig.canvas.height) {\n",
       "        fig._resize_canvas(size[0], size[1]);\n",
       "        fig.send_message(\"refresh\", {});\n",
       "    };\n",
       "}\n",
       "\n",
       "mpl.figure.prototype.handle_rubberband = function(fig, msg) {\n",
       "    var x0 = msg['x0'] / mpl.ratio;\n",
       "    var y0 = (fig.canvas.height - msg['y0']) / mpl.ratio;\n",
       "    var x1 = msg['x1'] / mpl.ratio;\n",
       "    var y1 = (fig.canvas.height - msg['y1']) / mpl.ratio;\n",
       "    x0 = Math.floor(x0) + 0.5;\n",
       "    y0 = Math.floor(y0) + 0.5;\n",
       "    x1 = Math.floor(x1) + 0.5;\n",
       "    y1 = Math.floor(y1) + 0.5;\n",
       "    var min_x = Math.min(x0, x1);\n",
       "    var min_y = Math.min(y0, y1);\n",
       "    var width = Math.abs(x1 - x0);\n",
       "    var height = Math.abs(y1 - y0);\n",
       "\n",
       "    fig.rubberband_context.clearRect(\n",
       "        0, 0, fig.canvas.width / mpl.ratio, fig.canvas.height / mpl.ratio);\n",
       "\n",
       "    fig.rubberband_context.strokeRect(min_x, min_y, width, height);\n",
       "}\n",
       "\n",
       "mpl.figure.prototype.handle_figure_label = function(fig, msg) {\n",
       "    // Updates the figure title.\n",
       "    fig.header.textContent = msg['label'];\n",
       "}\n",
       "\n",
       "mpl.figure.prototype.handle_cursor = function(fig, msg) {\n",
       "    var cursor = msg['cursor'];\n",
       "    switch(cursor)\n",
       "    {\n",
       "    case 0:\n",
       "        cursor = 'pointer';\n",
       "        break;\n",
       "    case 1:\n",
       "        cursor = 'default';\n",
       "        break;\n",
       "    case 2:\n",
       "        cursor = 'crosshair';\n",
       "        break;\n",
       "    case 3:\n",
       "        cursor = 'move';\n",
       "        break;\n",
       "    }\n",
       "    fig.rubberband_canvas.style.cursor = cursor;\n",
       "}\n",
       "\n",
       "mpl.figure.prototype.handle_message = function(fig, msg) {\n",
       "    fig.message.textContent = msg['message'];\n",
       "}\n",
       "\n",
       "mpl.figure.prototype.handle_draw = function(fig, msg) {\n",
       "    // Request the server to send over a new figure.\n",
       "    fig.send_draw_message();\n",
       "}\n",
       "\n",
       "mpl.figure.prototype.handle_image_mode = function(fig, msg) {\n",
       "    fig.image_mode = msg['mode'];\n",
       "}\n",
       "\n",
       "mpl.figure.prototype.updated_canvas_event = function() {\n",
       "    // Called whenever the canvas gets updated.\n",
       "    this.send_message(\"ack\", {});\n",
       "}\n",
       "\n",
       "// A function to construct a web socket function for onmessage handling.\n",
       "// Called in the figure constructor.\n",
       "mpl.figure.prototype._make_on_message_function = function(fig) {\n",
       "    return function socket_on_message(evt) {\n",
       "        if (evt.data instanceof Blob) {\n",
       "            /* FIXME: We get \"Resource interpreted as Image but\n",
       "             * transferred with MIME type text/plain:\" errors on\n",
       "             * Chrome.  But how to set the MIME type?  It doesn't seem\n",
       "             * to be part of the websocket stream */\n",
       "            evt.data.type = \"image/png\";\n",
       "\n",
       "            /* Free the memory for the previous frames */\n",
       "            if (fig.imageObj.src) {\n",
       "                (window.URL || window.webkitURL).revokeObjectURL(\n",
       "                    fig.imageObj.src);\n",
       "            }\n",
       "\n",
       "            fig.imageObj.src = (window.URL || window.webkitURL).createObjectURL(\n",
       "                evt.data);\n",
       "            fig.updated_canvas_event();\n",
       "            fig.waiting = false;\n",
       "            return;\n",
       "        }\n",
       "        else if (typeof evt.data === 'string' && evt.data.slice(0, 21) == \"data:image/png;base64\") {\n",
       "            fig.imageObj.src = evt.data;\n",
       "            fig.updated_canvas_event();\n",
       "            fig.waiting = false;\n",
       "            return;\n",
       "        }\n",
       "\n",
       "        var msg = JSON.parse(evt.data);\n",
       "        var msg_type = msg['type'];\n",
       "\n",
       "        // Call the  \"handle_{type}\" callback, which takes\n",
       "        // the figure and JSON message as its only arguments.\n",
       "        try {\n",
       "            var callback = fig[\"handle_\" + msg_type];\n",
       "        } catch (e) {\n",
       "            console.log(\"No handler for the '\" + msg_type + \"' message type: \", msg);\n",
       "            return;\n",
       "        }\n",
       "\n",
       "        if (callback) {\n",
       "            try {\n",
       "                // console.log(\"Handling '\" + msg_type + \"' message: \", msg);\n",
       "                callback(fig, msg);\n",
       "            } catch (e) {\n",
       "                console.log(\"Exception inside the 'handler_\" + msg_type + \"' callback:\", e, e.stack, msg);\n",
       "            }\n",
       "        }\n",
       "    };\n",
       "}\n",
       "\n",
       "// from http://stackoverflow.com/questions/1114465/getting-mouse-location-in-canvas\n",
       "mpl.findpos = function(e) {\n",
       "    //this section is from http://www.quirksmode.org/js/events_properties.html\n",
       "    var targ;\n",
       "    if (!e)\n",
       "        e = window.event;\n",
       "    if (e.target)\n",
       "        targ = e.target;\n",
       "    else if (e.srcElement)\n",
       "        targ = e.srcElement;\n",
       "    if (targ.nodeType == 3) // defeat Safari bug\n",
       "        targ = targ.parentNode;\n",
       "\n",
       "    // jQuery normalizes the pageX and pageY\n",
       "    // pageX,Y are the mouse positions relative to the document\n",
       "    // offset() returns the position of the element relative to the document\n",
       "    var x = e.pageX - $(targ).offset().left;\n",
       "    var y = e.pageY - $(targ).offset().top;\n",
       "\n",
       "    return {\"x\": x, \"y\": y};\n",
       "};\n",
       "\n",
       "/*\n",
       " * return a copy of an object with only non-object keys\n",
       " * we need this to avoid circular references\n",
       " * http://stackoverflow.com/a/24161582/3208463\n",
       " */\n",
       "function simpleKeys (original) {\n",
       "  return Object.keys(original).reduce(function (obj, key) {\n",
       "    if (typeof original[key] !== 'object')\n",
       "        obj[key] = original[key]\n",
       "    return obj;\n",
       "  }, {});\n",
       "}\n",
       "\n",
       "mpl.figure.prototype.mouse_event = function(event, name) {\n",
       "    var canvas_pos = mpl.findpos(event)\n",
       "\n",
       "    if (name === 'button_press')\n",
       "    {\n",
       "        this.canvas.focus();\n",
       "        this.canvas_div.focus();\n",
       "    }\n",
       "\n",
       "    var x = canvas_pos.x * mpl.ratio;\n",
       "    var y = canvas_pos.y * mpl.ratio;\n",
       "\n",
       "    this.send_message(name, {x: x, y: y, button: event.button,\n",
       "                             step: event.step,\n",
       "                             guiEvent: simpleKeys(event)});\n",
       "\n",
       "    /* This prevents the web browser from automatically changing to\n",
       "     * the text insertion cursor when the button is pressed.  We want\n",
       "     * to control all of the cursor setting manually through the\n",
       "     * 'cursor' event from matplotlib */\n",
       "    event.preventDefault();\n",
       "    return false;\n",
       "}\n",
       "\n",
       "mpl.figure.prototype._key_event_extra = function(event, name) {\n",
       "    // Handle any extra behaviour associated with a key event\n",
       "}\n",
       "\n",
       "mpl.figure.prototype.key_event = function(event, name) {\n",
       "\n",
       "    // Prevent repeat events\n",
       "    if (name == 'key_press')\n",
       "    {\n",
       "        if (event.which === this._key)\n",
       "            return;\n",
       "        else\n",
       "            this._key = event.which;\n",
       "    }\n",
       "    if (name == 'key_release')\n",
       "        this._key = null;\n",
       "\n",
       "    var value = '';\n",
       "    if (event.ctrlKey && event.which != 17)\n",
       "        value += \"ctrl+\";\n",
       "    if (event.altKey && event.which != 18)\n",
       "        value += \"alt+\";\n",
       "    if (event.shiftKey && event.which != 16)\n",
       "        value += \"shift+\";\n",
       "\n",
       "    value += 'k';\n",
       "    value += event.which.toString();\n",
       "\n",
       "    this._key_event_extra(event, name);\n",
       "\n",
       "    this.send_message(name, {key: value,\n",
       "                             guiEvent: simpleKeys(event)});\n",
       "    return false;\n",
       "}\n",
       "\n",
       "mpl.figure.prototype.toolbar_button_onclick = function(name) {\n",
       "    if (name == 'download') {\n",
       "        this.handle_save(this, null);\n",
       "    } else {\n",
       "        this.send_message(\"toolbar_button\", {name: name});\n",
       "    }\n",
       "};\n",
       "\n",
       "mpl.figure.prototype.toolbar_button_onmouseover = function(tooltip) {\n",
       "    this.message.textContent = tooltip;\n",
       "};\n",
       "mpl.toolbar_items = [[\"Home\", \"Reset original view\", \"fa fa-home icon-home\", \"home\"], [\"Back\", \"Back to previous view\", \"fa fa-arrow-left icon-arrow-left\", \"back\"], [\"Forward\", \"Forward to next view\", \"fa fa-arrow-right icon-arrow-right\", \"forward\"], [\"\", \"\", \"\", \"\"], [\"Pan\", \"Pan axes with left mouse, zoom with right\", \"fa fa-arrows icon-move\", \"pan\"], [\"Zoom\", \"Zoom to rectangle\", \"fa fa-square-o icon-check-empty\", \"zoom\"], [\"\", \"\", \"\", \"\"], [\"Download\", \"Download plot\", \"fa fa-floppy-o icon-save\", \"download\"]];\n",
       "\n",
       "mpl.extensions = [\"eps\", \"jpeg\", \"pdf\", \"png\", \"ps\", \"raw\", \"svg\", \"tif\"];\n",
       "\n",
       "mpl.default_extension = \"png\";var comm_websocket_adapter = function(comm) {\n",
       "    // Create a \"websocket\"-like object which calls the given IPython comm\n",
       "    // object with the appropriate methods. Currently this is a non binary\n",
       "    // socket, so there is still some room for performance tuning.\n",
       "    var ws = {};\n",
       "\n",
       "    ws.close = function() {\n",
       "        comm.close()\n",
       "    };\n",
       "    ws.send = function(m) {\n",
       "        //console.log('sending', m);\n",
       "        comm.send(m);\n",
       "    };\n",
       "    // Register the callback with on_msg.\n",
       "    comm.on_msg(function(msg) {\n",
       "        //console.log('receiving', msg['content']['data'], msg);\n",
       "        // Pass the mpl event to the overridden (by mpl) onmessage function.\n",
       "        ws.onmessage(msg['content']['data'])\n",
       "    });\n",
       "    return ws;\n",
       "}\n",
       "\n",
       "mpl.mpl_figure_comm = function(comm, msg) {\n",
       "    // This is the function which gets called when the mpl process\n",
       "    // starts-up an IPython Comm through the \"matplotlib\" channel.\n",
       "\n",
       "    var id = msg.content.data.id;\n",
       "    // Get hold of the div created by the display call when the Comm\n",
       "    // socket was opened in Python.\n",
       "    var element = $(\"#\" + id);\n",
       "    var ws_proxy = comm_websocket_adapter(comm)\n",
       "\n",
       "    function ondownload(figure, format) {\n",
       "        window.open(figure.imageObj.src);\n",
       "    }\n",
       "\n",
       "    var fig = new mpl.figure(id, ws_proxy,\n",
       "                           ondownload,\n",
       "                           element.get(0));\n",
       "\n",
       "    // Call onopen now - mpl needs it, as it is assuming we've passed it a real\n",
       "    // web socket which is closed, not our websocket->open comm proxy.\n",
       "    ws_proxy.onopen();\n",
       "\n",
       "    fig.parent_element = element.get(0);\n",
       "    fig.cell_info = mpl.find_output_cell(\"<div id='\" + id + \"'></div>\");\n",
       "    if (!fig.cell_info) {\n",
       "        console.error(\"Failed to find cell for figure\", id, fig);\n",
       "        return;\n",
       "    }\n",
       "\n",
       "    var output_index = fig.cell_info[2]\n",
       "    var cell = fig.cell_info[0];\n",
       "\n",
       "};\n",
       "\n",
       "mpl.figure.prototype.handle_close = function(fig, msg) {\n",
       "    var width = fig.canvas.width/mpl.ratio\n",
       "    fig.root.unbind('remove')\n",
       "\n",
       "    // Update the output cell to use the data from the current canvas.\n",
       "    fig.push_to_output();\n",
       "    var dataURL = fig.canvas.toDataURL();\n",
       "    // Re-enable the keyboard manager in IPython - without this line, in FF,\n",
       "    // the notebook keyboard shortcuts fail.\n",
       "    IPython.keyboard_manager.enable()\n",
       "    $(fig.parent_element).html('<img src=\"' + dataURL + '\" width=\"' + width + '\">');\n",
       "    fig.close_ws(fig, msg);\n",
       "}\n",
       "\n",
       "mpl.figure.prototype.close_ws = function(fig, msg){\n",
       "    fig.send_message('closing', msg);\n",
       "    // fig.ws.close()\n",
       "}\n",
       "\n",
       "mpl.figure.prototype.push_to_output = function(remove_interactive) {\n",
       "    // Turn the data on the canvas into data in the output cell.\n",
       "    var width = this.canvas.width/mpl.ratio\n",
       "    var dataURL = this.canvas.toDataURL();\n",
       "    this.cell_info[1]['text/html'] = '<img src=\"' + dataURL + '\" width=\"' + width + '\">';\n",
       "}\n",
       "\n",
       "mpl.figure.prototype.updated_canvas_event = function() {\n",
       "    // Tell IPython that the notebook contents must change.\n",
       "    IPython.notebook.set_dirty(true);\n",
       "    this.send_message(\"ack\", {});\n",
       "    var fig = this;\n",
       "    // Wait a second, then push the new image to the DOM so\n",
       "    // that it is saved nicely (might be nice to debounce this).\n",
       "    setTimeout(function () { fig.push_to_output() }, 1000);\n",
       "}\n",
       "\n",
       "mpl.figure.prototype._init_toolbar = function() {\n",
       "    var fig = this;\n",
       "\n",
       "    var nav_element = $('<div/>');\n",
       "    nav_element.attr('style', 'width: 100%');\n",
       "    this.root.append(nav_element);\n",
       "\n",
       "    // Define a callback function for later on.\n",
       "    function toolbar_event(event) {\n",
       "        return fig.toolbar_button_onclick(event['data']);\n",
       "    }\n",
       "    function toolbar_mouse_event(event) {\n",
       "        return fig.toolbar_button_onmouseover(event['data']);\n",
       "    }\n",
       "\n",
       "    for(var toolbar_ind in mpl.toolbar_items){\n",
       "        var name = mpl.toolbar_items[toolbar_ind][0];\n",
       "        var tooltip = mpl.toolbar_items[toolbar_ind][1];\n",
       "        var image = mpl.toolbar_items[toolbar_ind][2];\n",
       "        var method_name = mpl.toolbar_items[toolbar_ind][3];\n",
       "\n",
       "        if (!name) { continue; };\n",
       "\n",
       "        var button = $('<button class=\"btn btn-default\" href=\"#\" title=\"' + name + '\"><i class=\"fa ' + image + ' fa-lg\"></i></button>');\n",
       "        button.click(method_name, toolbar_event);\n",
       "        button.mouseover(tooltip, toolbar_mouse_event);\n",
       "        nav_element.append(button);\n",
       "    }\n",
       "\n",
       "    // Add the status bar.\n",
       "    var status_bar = $('<span class=\"mpl-message\" style=\"text-align:right; float: right;\"/>');\n",
       "    nav_element.append(status_bar);\n",
       "    this.message = status_bar[0];\n",
       "\n",
       "    // Add the close button to the window.\n",
       "    var buttongrp = $('<div class=\"btn-group inline pull-right\"></div>');\n",
       "    var button = $('<button class=\"btn btn-mini btn-primary\" href=\"#\" title=\"Stop Interaction\"><i class=\"fa fa-power-off icon-remove icon-large\"></i></button>');\n",
       "    button.click(function (evt) { fig.handle_close(fig, {}); } );\n",
       "    button.mouseover('Stop Interaction', toolbar_mouse_event);\n",
       "    buttongrp.append(button);\n",
       "    var titlebar = this.root.find($('.ui-dialog-titlebar'));\n",
       "    titlebar.prepend(buttongrp);\n",
       "}\n",
       "\n",
       "mpl.figure.prototype._root_extra_style = function(el){\n",
       "    var fig = this\n",
       "    el.on(\"remove\", function(){\n",
       "\tfig.close_ws(fig, {});\n",
       "    });\n",
       "}\n",
       "\n",
       "mpl.figure.prototype._canvas_extra_style = function(el){\n",
       "    // this is important to make the div 'focusable\n",
       "    el.attr('tabindex', 0)\n",
       "    // reach out to IPython and tell the keyboard manager to turn it's self\n",
       "    // off when our div gets focus\n",
       "\n",
       "    // location in version 3\n",
       "    if (IPython.notebook.keyboard_manager) {\n",
       "        IPython.notebook.keyboard_manager.register_events(el);\n",
       "    }\n",
       "    else {\n",
       "        // location in version 2\n",
       "        IPython.keyboard_manager.register_events(el);\n",
       "    }\n",
       "\n",
       "}\n",
       "\n",
       "mpl.figure.prototype._key_event_extra = function(event, name) {\n",
       "    var manager = IPython.notebook.keyboard_manager;\n",
       "    if (!manager)\n",
       "        manager = IPython.keyboard_manager;\n",
       "\n",
       "    // Check for shift+enter\n",
       "    if (event.shiftKey && event.which == 13) {\n",
       "        this.canvas_div.blur();\n",
       "        // select the cell after this one\n",
       "        var index = IPython.notebook.find_cell_index(this.cell_info[0]);\n",
       "        IPython.notebook.select(index + 1);\n",
       "    }\n",
       "}\n",
       "\n",
       "mpl.figure.prototype.handle_save = function(fig, msg) {\n",
       "    fig.ondownload(fig, null);\n",
       "}\n",
       "\n",
       "\n",
       "mpl.find_output_cell = function(html_output) {\n",
       "    // Return the cell and output element which can be found *uniquely* in the notebook.\n",
       "    // Note - this is a bit hacky, but it is done because the \"notebook_saving.Notebook\"\n",
       "    // IPython event is triggered only after the cells have been serialised, which for\n",
       "    // our purposes (turning an active figure into a static one), is too late.\n",
       "    var cells = IPython.notebook.get_cells();\n",
       "    var ncells = cells.length;\n",
       "    for (var i=0; i<ncells; i++) {\n",
       "        var cell = cells[i];\n",
       "        if (cell.cell_type === 'code'){\n",
       "            for (var j=0; j<cell.output_area.outputs.length; j++) {\n",
       "                var data = cell.output_area.outputs[j];\n",
       "                if (data.data) {\n",
       "                    // IPython >= 3 moved mimebundle to data attribute of output\n",
       "                    data = data.data;\n",
       "                }\n",
       "                if (data['text/html'] == html_output) {\n",
       "                    return [cell, data, j];\n",
       "                }\n",
       "            }\n",
       "        }\n",
       "    }\n",
       "}\n",
       "\n",
       "// Register the function which deals with the matplotlib target/channel.\n",
       "// The kernel may be null if the page has been refreshed.\n",
       "if (IPython.notebook.kernel != null) {\n",
       "    IPython.notebook.kernel.comm_manager.register_target('matplotlib', mpl.mpl_figure_comm);\n",
       "}\n"
      ],
      "text/plain": [
       "<IPython.core.display.Javascript object>"
      ]
     },
     "metadata": {},
     "output_type": "display_data"
    },
    {
     "data": {
      "text/html": [
       "<img src=\"data:image/png;base64,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\" width=\"640\">"
      ],
      "text/plain": [
       "<IPython.core.display.HTML object>"
      ]
     },
     "metadata": {},
     "output_type": "display_data"
    },
    {
     "data": {
      "text/plain": [
       "[<matplotlib.lines.Line2D at 0x7fd813cb7780>]"
      ]
     },
     "execution_count": 104,
     "metadata": {},
     "output_type": "execute_result"
    }
   ],
   "source": [
    "x = np.arange(0, 2*np.pi, 0.01)\n",
    "plt.plot(x, np.sin(x))"
   ]
  },
  {
   "cell_type": "markdown",
   "metadata": {},
   "source": [
    "With luck, you now see your plot in the Notebook, and it looks something like the one above \n",
    "except it will be interactive.  We will learn more about those interactive functions\n",
    "on Wednesday."
   ]
  },
  {
   "cell_type": "markdown",
   "metadata": {},
   "source": [
    "Notebooks are useful for many reasons. First of all, you can go back and edit cells and re-execute them. Second, you can save them and the re-open them (using the file menu), and the saved file will remember not just the things you entered, but also the state of the calculation (e.g. the values of variables). You can also do numerous other useful things like cut and paste, executing multiple cells at once, inserting and deleting cells, etc. You can also have multiple notebooks open at once.\n",
    "\n",
    "When you're done with a notebook, click save and close the broswer tab. Then to shut down the notebook server, go back to the original window where you started things up and type ctrl-C. You will be asked for confirmation, and if you type y, the server will then shut down.\n"
   ]
  },
  {
   "cell_type": "markdown",
   "metadata": {},
   "source": [
    "## Python program and text files <a class=\"anchor\" id=\"python-program\"></a>"
   ]
  },
  {
   "cell_type": "markdown",
   "metadata": {},
   "source": [
    "The final way to interact with python is to write a python program, and that is the last topic for this class. The point of writing a program is to put down commands once and for all, so that they don't have to be typed manually every time. For example, let's say that we want to make a plot of a sin function and we don't want to have to type in the commands every time. We can put those commands into a file and then execute it. To do this, we need to use a text editor to create a file to hold the program.\n",
    "\n",
    "The file we are going to create is a text file. Files come in many different formats, but one of the most important, and the one used for all computer program source, is a text file. A text file is one where the contents consist of a series of characters, with no metadata describing formatting (for example no underlines, boldface, font information, etc.). The most restrictive type of text file contains only a limited set of characters, representing the letters of the English language, the Arabic numerals, some punctuation symbols, and a limited set of control characters (for example a character representing a line break); files in this format are called ASCII text files. Computer programs are written using this set of characters.\n",
    "\n",
    "Programs for editing text files are called text editors. One can also edit text files using word processors like Microsoft Word, but these tend to be incredibly cumbersome for this purpose, since they have a ton of functionality that we're not going to use, and by default they save files in much more complicated formats that make use of that functionality. Even supposedly lightweight editors like Mac's TextWrangler or Microsoft's Notepad are really not ideal. A much better option is a dedicated text editor intended for this purpose. My preferred editor is sublime, which is freely available in versions for windows, mac, and linux. Another option is to use a development environment like Anaconda's Spider, which incorporates a text editor."
   ]
  },
  {
   "cell_type": "markdown",
   "metadata": {},
   "source": [
    "Start up the editor or IDE on your machine.  Once we've got it open, let's write a program that generates a plot of the sin function. To do this, we just need to enter the same commands we used in the Notebook, except that we don't need the %matplotlib notebook command to declare the images should be shown inline. Thus we put the following into our text file:\n",
    "\n",
    "    # Import libraries\n",
    "    import numpy as np\n",
    "    from matplotlib import pyplot as plt\n",
    "\n",
    "    # Create an array from 0 to 2 pi\n",
    "    x=np.arange(0,2*np.pi,0.01)\n",
    "\n",
    "    # Make the plot\n",
    "    plt.plot(x, np.sin(x))\n",
    "\n",
    "    # Save the output to a file\n",
    "    plt.savefig('sinplot.png')"
   ]
  },
  {
   "cell_type": "markdown",
   "metadata": {},
   "source": [
    "A few things to notice about this:\n",
    "\n",
    "1. Anything following a # mark is a comment, meaning that it is a description of what is going on in the program for human consumption. It will be ignored by the computer when the program is run. Commenting is VERY important in complex programs, because in the absence of comments it is almost impossible to figure out what the programmer was trying to do, which makes the code impossible to maintain or debug. This is true even if you are coming back to look at your own code. It's amazing how much you won't be able to follow your own logic a month or two later if you haven't commented.\n",
    "1. As in the ipython notebook, we needed to explicitly specify which libraries to import so that we could use numpy and matplotlib functions.\n",
    "1. At the end of the program, we used the savefig command to write the output to a file, since we're not going to be running this interactively. Matplotlib can save figures in a variety of formats, and is smart enough to figure out which one we want just from the file name extension.\n",
    "\n",
    "Once we've written this text into the text editor, we can save the file. Python programs are traditionally saved in files with the extension .py, so let's do that and save the file as sinplot.py. "
   ]
  },
  {
   "cell_type": "markdown",
   "metadata": {},
   "source": [
    "The final step is to run the program. From the command line, we do this just by typing\n",
    "\n",
    "    python sinplot.py"
   ]
  },
  {
   "cell_type": "markdown",
   "metadata": {},
   "source": [
    "The program should run silently, but we should then see a new file in the directory called sinplot.png. This contains our output, which should look like this:"
   ]
  },
  {
   "cell_type": "code",
   "execution_count": 105,
   "metadata": {},
   "outputs": [
    {
     "data": {
      "image/png": "[encoded data removed]",
      "text/plain": [
       "<IPython.core.display.Image object>"
      ]
     },
     "execution_count": 105,
     "metadata": {
      "image/png": {
       "width": 800
      }
     },
     "output_type": "execute_result"
    }
   ],
   "source": [
    "Image(filename = 'Figures/sinplot.png', width=800)#, height=100)"
   ]
  },
  {
   "cell_type": "markdown",
   "metadata": {},
   "source": [
    "We can also run programs from within an ipython session, either at the command line or in a notebook, by typing\n",
    "\n",
    "    execfile('sinplot.py')\n",
    "    \n",
    "This will execute the commands in the file exactly as if they'd been typed at the command line."
   ]
  },
  {
   "cell_type": "code",
   "execution_count": null,
   "metadata": {},
   "outputs": [],
   "source": []
  }
 ],
 "metadata": {
  "celltoolbar": "Slideshow",
  "kernelspec": {
   "display_name": "Python 3",
   "language": "python",
   "name": "python3"
  },
  "language_info": {
   "codemirror_mode": {
    "name": "ipython",
    "version": 3
   },
   "file_extension": ".py",
   "mimetype": "text/x-python",
   "name": "python",
   "nbconvert_exporter": "python",
   "pygments_lexer": "ipython3",
   "version": "3.7.3"
  }
 },
 "nbformat": 4,
 "nbformat_minor": 2
}
