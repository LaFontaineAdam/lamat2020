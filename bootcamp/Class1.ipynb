{
 "cells": [
  {
   "cell_type": "markdown",
   "metadata": {},
   "source": [
    "# Class 1"
   ]
  },
  {
   "cell_type": "markdown",
   "metadata": {},
   "source": [
    "## TOC:\n",
    "* [Introductory Matters](#introductory-matters)\n",
    "* [Second Bullet Header](#second-bullet)"
   ]
  },
  {
   "cell_type": "markdown",
   "metadata": {},
   "source": [
    "When you make a slide presentation, there are a few programs you likely think of: Microsoft PowerPoint, Google Slides, Prezi (just kidding). PPT and Slides are great applications, to be sure. They offer tons of formatting and style options and integrate well with other software developed by Microsoft and Google, respectively. But there is another great program for making slides, and it is especially useful for anyone interested in presenting code. I’m talking about Jupyter Notebook Slides. Most coders know Jupyter Notebooks as an environment for writing code, but it can do even more!\n",
    "\n",
    "The main advantage of Jupyter Notebook slides is that you can take that very same Jupyter Notebook you used to model and visualize a dataset, and turn it into a slideshow for a technical presentation. It is easy to choose individual cells to present as well as which ones to skip. And formatting is virtually a non-issue for anyone who already knows how to use Markdown."
   ]
  },
  {
   "cell_type": "markdown",
   "metadata": {},
   "source": [
    "When you make a slide presentation, there are a few programs you likely think of: Microsoft PowerPoint, Google Slides, Prezi (just kidding). PPT and Slides are great applications, to be sure. They offer tons of formatting and style options and integrate well with other software developed by Microsoft and Google, respectively. But there is another great program for making slides, and it is especially useful for anyone interested in presenting code. I’m talking about Jupyter Notebook Slides. Most coders know Jupyter Notebooks as an environment for writing code, but it can do even more!\n",
    "\n",
    "The main advantage of Jupyter Notebook slides is that you can take that very same Jupyter Notebook you used to model and visualize a dataset, and turn it into a slideshow for a technical presentation. It is easy to choose individual cells to present as well as which ones to skip. And formatting is virtually a non-issue for anyone who already knows how to use Markdown."
   ]
  },
  {
   "cell_type": "markdown",
   "metadata": {},
   "source": [
    "When you make a slide presentation, there are a few programs you likely think of: Microsoft PowerPoint, Google Slides, Prezi (just kidding). PPT and Slides are great applications, to be sure. They offer tons of formatting and style options and integrate well with other software developed by Microsoft and Google, respectively. But there is another great program for making slides, and it is especially useful for anyone interested in presenting code. I’m talking about Jupyter Notebook Slides. Most coders know Jupyter Notebooks as an environment for writing code, but it can do even more!\n",
    "\n",
    "The main advantage of Jupyter Notebook slides is that you can take that very same Jupyter Notebook you used to model and visualize a dataset, and turn it into a slideshow for a technical presentation. It is easy to choose individual cells to present as well as which ones to skip. And formatting is virtually a non-issue for anyone who already knows how to use Markdown."
   ]
  },
  {
   "cell_type": "markdown",
   "metadata": {},
   "source": [
    "# Introductory Matters <a class=\"anchor\" id=\"introductory-matters\"></a>"
   ]
  },
  {
   "cell_type": "code",
   "execution_count": null,
   "metadata": {},
   "outputs": [],
   "source": []
  }
 ],
 "metadata": {
  "celltoolbar": "Slideshow",
  "kernelspec": {
   "display_name": "Python 3",
   "language": "python",
   "name": "python3"
  },
  "language_info": {
   "codemirror_mode": {
    "name": "ipython",
    "version": 3
   },
   "file_extension": ".py",
   "mimetype": "text/x-python",
   "name": "python",
   "nbconvert_exporter": "python",
   "pygments_lexer": "ipython3",
   "version": "3.7.3"
  }
 },
 "nbformat": 4,
 "nbformat_minor": 2
}
